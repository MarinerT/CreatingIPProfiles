{
 "cells": [
  {
   "cell_type": "code",
   "execution_count": 10,
   "metadata": {},
   "outputs": [],
   "source": [
    "import nltk\n",
    "from nltk.cluster.kmeans import KMeansClusterer \n",
    "\n",
    "import matplotlib.pyplot as plt\n",
    "import numpy as np\n",
    "import pandas as pd\n",
    "from sklearn import cluster\n",
    "from sklearn.metrics import silhouette_score, silhouette_samples\n",
    "from sklearn.preprocessing import StandardScaler, PowerTransformer, FunctionTransformer\n",
    "from sklearn.decomposition import PCA\n",
    "from sklearn.pipeline import Pipeline\n",
    "import random\n",
    "from sklearn.cluster import KMeans\n",
    "import matplotlib.cm as cm\n",
    "from mpl_toolkits.mplot3d import Axes3D\n",
    "import time\n",
    "from sklearn.manifold import TSNE\n",
    "\n",
    "\n",
    "def cluster(results, n_clusters):\n",
    "    cl = KMeans(n_clusters, n_init=20, max_iter=500,n_jobs=-1, verbose=0)\n",
    "    return cl.fit(results)\n",
    "    \n",
    "\n",
    "def assign_cluster_to_data(df, dflabel, cl):\n",
    "    lbls = []\n",
    "    addrs = list(df['accession'].values)\n",
    "    for i, row in dflabel.iterrows():\n",
    "        addr = row['accession']\n",
    "        if row['accession'] in addrs:\n",
    "            lbls.append(addrs.index(row['accession']))\n",
    "        else:\n",
    "            lbls.append(False)\n",
    "\n",
    "    dflabel['cluster'] = [cl.labels_[i] for i in lbls]\n",
    "    return None\n",
    "\n",
    "def calc_tsne(results, n_components=2, perplexity=20, n_iter=300,verbose=1):\n",
    "    '''\n",
    "    Calculated tsne for dataset'''\n",
    "    time_start = time.time()\n",
    "    tsne = TSNE(n_components=n_components, perplexity=perplexity, n_iter=n_iter,verbose=verbose,learning_rate=100)\n",
    "    tsne_results = tsne.fit_transform(results)\n",
    "    print('t-SNE done! Time elapsed: {} seconds'.format(time.time()-time_start))\n",
    "    return tsne_results\n",
    "\n",
    "\n",
    "def plot_tsne(cl, tsne_results ):\n",
    "    '''\n",
    "    plot'''\n",
    "    \n",
    "    NUM_COLORS = cl.n_clusters\n",
    "    cm = plt.get_cmap('nipy_spectral')\n",
    "\n",
    "    fig = plt.figure(figsize=(15,12)).gca(projection='3D')\n",
    "    ax = fig.add_subplot(111)\n",
    "    #ax.set_color_cycle([cm(1.*i/NUM_COLORS) for i in range(NUM_COLORS)])\n",
    "\n",
    "\n",
    "    for c in np.unique(cl.labels_):\n",
    "        mask = cl.labels_==c\n",
    "        if np.sum(mask) <1:\n",
    "            lbl = '_nolegend_'\n",
    "        else:\n",
    "            lbl = c\n",
    "        plt.scatter(tsne_results[mask][:,0], tsne_results[mask][:,1], s=20, alpha=.4,label=lbl)\n",
    "\n",
    "    leg = plt.legend(bbox_to_anchor=(1, 1))\n",
    "    for lh in leg.legendHandles: \n",
    "        lh.set_alpha(1)\n",
    "\n",
    "\n",
    "\n",
    "\n",
    "    plt.title('T-SNE', fontsize=20)\n",
    "    plt.xlabel('first principal component')\n",
    "    plt.ylabel('second principal component')\n",
    "    plt.show()\n",
    "    \n",
    "    \n",
    "def find_category_of_cluster(cl,dflabel, category=\"Exchange\"):\n",
    "    #assign cluster number with the most exchanges\n",
    "    type_cluster = 0\n",
    "    num_of_type = 0\n",
    "    lbl_density=0\n",
    "    print(category)\n",
    "    for clust in np.unique(cl.labels_):\n",
    "        size_of_cluster = np.sum(cl.labels_==clust)\n",
    "        \n",
    "        \n",
    "        mask = dflabel['cluster']==clust\n",
    "        d = dflabel[mask]\n",
    "        num = np.sum(d['category']==category)\n",
    "        density = num / size_of_cluster\n",
    "        if num > num_of_type:\n",
    "            lbl_density=density\n",
    "            num_of_type = num\n",
    "            type_cluster = clust\n",
    "        print('cluster number   {}   number of type found: {}    cluster size: {}   label density: {}'.format(clust,num,size_of_cluster,density))\n",
    "    return type_cluster\n",
    "\n",
    "def plot_tsne_with_labels(tsne_results,df, dflabel,categs,colors):\n",
    "    #need to mask df based on which results were kept from the reclustering\n",
    "    \n",
    "    labeled_addresses = dflabel['address'].values\n",
    "    labelmask = np.array([addr in labeled_addresses for addr in df['address'] ] )\n",
    "    #helper function for category mask\n",
    "    def cat(addr, labeled_addresses, dflabel):\n",
    "        if addr not in labeled_addresses:\n",
    "            return False\n",
    "        else:\n",
    "            idx = int(np.where(labeled_addresses==addr)[0][0])\n",
    "            return dflabel['category'][idx]\n",
    "\n",
    "    subset, not_subset  = tsne_results[labelmask] , tsne_results[~labelmask]\n",
    "    fig = plt.figure(figsize=(15,12))\n",
    "    #not labelled points\n",
    "    plt.scatter(not_subset[:,0], not_subset[:,1], s=20, c='gray', alpha=.3)\n",
    "\n",
    "    #categories\n",
    "    cats = np.array([cat(addr, labeled_addresses, dflabel) for addr in df['address']])#[address_mask] ]) #added address mask for all clusters\n",
    "\n",
    "    # # #labelled points\n",
    "\n",
    "    # ax = fig.add_subplot(111)\n",
    "    # ax.set_color_cycle([cm(1.*i/NUM_COLORS) for i in range(NUM_COLORS)])\n",
    "\n",
    "    for c in list(dflabel['category'].unique()):\n",
    "        mask = dflabel['category']==c\n",
    "        if np.sum(mask) <1:\n",
    "            lbl = '_nolegend_'\n",
    "        else:\n",
    "            lbl = c\n",
    "\n",
    "        #category mask\n",
    "        catmask = cats == c\n",
    "\n",
    "        if c in categs:\n",
    "            idx=categs.index(c)\n",
    "            color = colors[idx]\n",
    "\n",
    "            plt.scatter(tsne_results[(labelmask & catmask)][:,0], tsne_results[(labelmask & catmask)][:,1], s=100,c=color, alpha=1,label=lbl)\n",
    "\n",
    "    leg = plt.legend(bbox_to_anchor=(1, 1))\n",
    "    for lh in leg.legendHandles: \n",
    "        lh.set_alpha(1)\n",
    "\n",
    "    plt.title('T-SNE', fontsize=20)\n",
    "    plt.xlabel('first principal component')\n",
    "    plt.ylabel('second principal component')\n",
    "    plt.show()\n",
    "\n",
    "\n",
    "def plot_tsne_with_labeled_clusters(tsne_results, cl, clusters, categs, colors):\n",
    "    fig = plt.figure(figsize=(15,12))\n",
    "    ax = fig.add_subplot(111)\n",
    "\n",
    "\n",
    "    for c in np.unique(cl.labels_):\n",
    "        mask = cl.labels_==c\n",
    "\n",
    "        if c in clusters:\n",
    "            idx = clusters.index(c)\n",
    "            lbl = categs[idx]\n",
    "            color = colors[idx]\n",
    "\n",
    "            plt.scatter(tsne_results[mask][:,0], tsne_results[mask][:,1], s=100,c=color,alpha=.4,label=('Cluster {} - \"{}\" '.format(c,lbl) ))\n",
    "        else:\n",
    "             plt.scatter(tsne_results[mask][:,0], tsne_results[mask][:,1], c='gray',s=20, alpha=.3)\n",
    "\n",
    "    leg = plt.legend(bbox_to_anchor=(1, 1))\n",
    "    for lh in leg.legendHandles: \n",
    "        lh.set_alpha(1)\n",
    "\n",
    "\n",
    "\n",
    "\n",
    "    plt.title('T-SNE', fontsize=20)\n",
    "    plt.xlabel('first principal component')\n",
    "    plt.ylabel('second principal component')\n",
    "    plt.show()\n",
    "    \n",
    "def recluster(df, cl, clusters, n_clusters):\n",
    "    lbls = cl.labels_\n",
    "    mask = np.array([False for i in range(len(lbls))])\n",
    "    for c in clusters:\n",
    "        mask |= lbls==c\n",
    "    subpipe, results = data_pipeline(df[mask])\n",
    "    \n",
    "    ##use cosine similarity! NLTK clustering implementation\n",
    "    #KMeans cluster object as carrier for consistency\n",
    "    subcl = cluster(results, n_clusters)\n",
    "    kclusterer = KMeansClusterer(n_clusters, distance=nltk.cluster.util.cosine_distance, repeats=50)\n",
    "    assigned_clusters = kclusterer.cluster(results, assign_clusters=True)\n",
    "    #assign new cluster labels and cluster centroids\n",
    "    subcl.labels_ = np.array(assigned_clusters)\n",
    "    subcl.cluster_centers_ = np.array(kclusterer.means())\n",
    "    \n",
    "    return subpipe, subcl, results, df[mask]\n",
    "\n",
    "def plot_all(tsne_results,cl,df,dflabel,clusters,categs,colors ):\n",
    "    plot_tsne(cl, tsne_results)\n",
    "    plot_tsne_with_labeled_clusters(tsne_results, cl, clusters, categs, colors)\n",
    "    plot_tsne_with_labels(tsne_results,df, dflabel,categs,colors)"
   ]
  },
  {
   "cell_type": "code",
   "execution_count": 11,
   "metadata": {},
   "outputs": [],
   "source": [
    "# %load ~/SageMaker/CreatingIPProfiles/scripts/spareme.py\n",
    "#!/usr/bin/env/python3\n",
    "\n",
    "import numpy as np\n",
    "import pandas as pd\n",
    "\n",
    "def preprocessing2(csv):\n",
    "    df = pd.read_csv(csv)\n",
    "    df = df.set_index('datetime')\n",
    "    df = df.drop(['ip_ccount','doc_ccount', 'date', 'time', 'datetime.1'],axis=1)\n",
    "    df['toDoc'] = df.groupby('ip')['accession'].shift(-1).fillna(0)\n",
    "    return df\n",
    "\n",
    "def calc_sparsity(df):\n",
    "    return np.sum(df)/np.prod(df.shape)\n",
    "\n",
    "def sparsity_matrix(col1,col2):\n",
    "    df_spar = pd.crosstab(col1, col2,dropna=False)\n",
    "    drop_list =[]\n",
    "    for x in df_spar.index.unique():\n",
    "        if x not in df_spar.columns.unique():\n",
    "            drop_list.append(x)\n",
    "    return df_spar.drop(drop_list).drop(0, axis=1)\n",
    "\n",
    "def create_sparsity_matrix(csv):\n",
    "    df = preprocessing2(csv)\n",
    "    return sparsity_matrix(df.accession, df.toDoc)\n"
   ]
  },
  {
   "cell_type": "code",
   "execution_count": 12,
   "metadata": {},
   "outputs": [],
   "source": [
    "results = create_sparsity_matrix('~/SageMaker/CreatingIPProfiles/data/df_filtered.csv')"
   ]
  },
  {
   "cell_type": "code",
   "execution_count": 13,
   "metadata": {},
   "outputs": [],
   "source": [
    "csv = '~/SageMaker/CreatingIPProfiles/data/df_filtered.csv'"
   ]
  },
  {
   "cell_type": "code",
   "execution_count": 14,
   "metadata": {},
   "outputs": [],
   "source": [
    "cl = cluster(results, n_clusters=8)"
   ]
  },
  {
   "cell_type": "code",
   "execution_count": 15,
   "metadata": {},
   "outputs": [],
   "source": [
    "df = preprocessing2(csv)"
   ]
  },
  {
   "cell_type": "code",
   "execution_count": 16,
   "metadata": {},
   "outputs": [
    {
     "data": {
      "text/plain": [
       "(16413, 3)"
      ]
     },
     "execution_count": 16,
     "metadata": {},
     "output_type": "execute_result"
    }
   ],
   "source": [
    "df.shape"
   ]
  },
  {
   "cell_type": "code",
   "execution_count": null,
   "metadata": {},
   "outputs": [],
   "source": []
  },
  {
   "cell_type": "code",
   "execution_count": null,
   "metadata": {},
   "outputs": [],
   "source": []
  },
  {
   "cell_type": "code",
   "execution_count": null,
   "metadata": {},
   "outputs": [],
   "source": []
  },
  {
   "cell_type": "code",
   "execution_count": 17,
   "metadata": {},
   "outputs": [],
   "source": [
    "import networkx as nx"
   ]
  },
  {
   "cell_type": "code",
   "execution_count": 18,
   "metadata": {},
   "outputs": [],
   "source": [
    "g_matrix = np.array(results)\n",
    "G = nx.Graph(g_matrix)\n",
    "d= nx.degree_centrality(G)\n",
    "X = np.array([[key,val] for (key,val) in d.items()])"
   ]
  },
  {
   "cell_type": "code",
   "execution_count": 47,
   "metadata": {},
   "outputs": [
    {
     "name": "stdout",
     "output_type": "stream",
     "text": [
      "[t-SNE] Computing 151 nearest neighbors...\n",
      "[t-SNE] Indexed 4333 samples in 0.020s...\n",
      "[t-SNE] Computed neighbors for 4333 samples in 0.048s...\n",
      "[t-SNE] Computed conditional probabilities for sample 1000 / 4333\n",
      "[t-SNE] Computed conditional probabilities for sample 2000 / 4333\n",
      "[t-SNE] Computed conditional probabilities for sample 3000 / 4333\n",
      "[t-SNE] Computed conditional probabilities for sample 4000 / 4333\n",
      "[t-SNE] Computed conditional probabilities for sample 4333 / 4333\n",
      "[t-SNE] Mean sigma: 17.447748\n",
      "[t-SNE] KL divergence after 250 iterations with early exaggeration: 51.536728\n",
      "[t-SNE] KL divergence after 2000 iterations: 0.262535\n",
      "t-SNE done! Time elapsed: 28.452682495117188 seconds\n"
     ]
    }
   ],
   "source": [
    "tsne_results = calc_tsne(X, perplexity=50,n_iter=2000)"
   ]
  },
  {
   "cell_type": "code",
   "execution_count": 48,
   "metadata": {},
   "outputs": [
    {
     "data": {
      "image/png": "[encoded data removed]",
      "text/plain": [
       "<Figure size 1080x864 with 1 Axes>"
      ]
     },
     "metadata": {},
     "output_type": "display_data"
    }
   ],
   "source": [
    "plot_tsne(cl, tsne_results)"
   ]
  },
  {
   "cell_type": "code",
   "execution_count": 49,
   "metadata": {},
   "outputs": [],
   "source": [
    "X = np.array([[key,val] for (key,val) in d.items()])\n",
    "\n",
    "from sklearn.cluster import KMeans\n",
    "kmeans = KMeans(n_clusters=4)\n",
    "kmeans.fit(tsne_results)\n",
    "y_kmeans = kmeans.predict(tsne_results)\n",
    "\n"
   ]
  },
  {
   "cell_type": "code",
   "execution_count": 50,
   "metadata": {},
   "outputs": [
    {
     "data": {
      "image/png": "[encoded data removed]",
      "text/plain": [
       "<Figure size 432x288 with 1 Axes>"
      ]
     },
     "metadata": {},
     "output_type": "display_data"
    }
   ],
   "source": [
    "plt.scatter(tsne_results[:, 0], tsne_results[:, 1], c=y_kmeans, s=50, cmap='viridis')\n",
    "\n",
    "centers = kmeans.cluster_centers_\n",
    "plt.scatter(centers[:, 0], centers[:, 1], c='black', s=200, alpha=0.5);"
   ]
  },
  {
   "cell_type": "code",
   "execution_count": 28,
   "metadata": {},
   "outputs": [
    {
     "data": {
      "image/png": "[encoded data removed]",
      "text/plain": [
       "<Figure size 432x288 with 1 Axes>"
      ]
     },
     "metadata": {},
     "output_type": "display_data"
    }
   ],
   "source": [
    "from sklearn.metrics import pairwise_distances_argmin\n",
    "\n",
    "def find_clusters(X, n_clusters, rseed=2):\n",
    "    # 1. Randomly choose clusters\n",
    "    rng = np.random.RandomState(rseed)\n",
    "    i = rng.permutation(X.shape[0])[:n_clusters]\n",
    "    centers = X[i]\n",
    "    \n",
    "    while True:\n",
    "        # 2a. Assign labels based on closest center\n",
    "        labels = pairwise_distances_argmin(X, centers)\n",
    "        \n",
    "        # 2b. Find new centers from means of points\n",
    "        new_centers = np.array([X[labels == i].mean(0)\n",
    "                                for i in range(n_clusters)])\n",
    "        \n",
    "        # 2c. Check for convergence\n",
    "        if np.all(centers == new_centers):\n",
    "            break\n",
    "        centers = new_centers\n",
    "    \n",
    "    return centers, labels\n",
    "\n",
    "centers, labels = find_clusters(X, 4)\n",
    "plt.scatter(X[:, 0], X[:, 1], c=labels,\n",
    "            s=50, cmap='viridis');"
   ]
  },
  {
   "cell_type": "code",
   "execution_count": 44,
   "metadata": {},
   "outputs": [
    {
     "name": "stdout",
     "output_type": "stream",
     "text": [
      "For n_clusters = 12 The average silhouette_score is : 0.9117222903774234\n"
     ]
    },
    {
     "data": {
      "image/png": "[encoded data removed]",
      "text/plain": [
       "<Figure size 1296x504 with 2 Axes>"
      ]
     },
     "metadata": {},
     "output_type": "display_data"
    }
   ],
   "source": [
    "range_n_clusters = [12]\n",
    "sils = silhouette_plotter(results, range_n_clusters, tsne_results)"
   ]
  },
  {
   "cell_type": "code",
   "execution_count": 39,
   "metadata": {},
   "outputs": [],
   "source": [
    "\n",
    "\n",
    "# from sklearn.cluster import AgglomerativeClustering\n",
    "# from scipy.cluster.hierarchy import dendrogram, linkage\n",
    "\n",
    "# ag = AgglomerativeClustering(n_clusters=8)\n",
    "\n",
    "\n",
    "\n",
    "# c = cl.cluster_centers_\n",
    "# df_scaled = pd.DataFrame(c, columns = df.columns, index=np.unique(cl.labels_))\n",
    "\n",
    "\n",
    "# Z = linkage(results, method='average',metric='euclidean')\n",
    "# fig=plt.figure(figsize=(25,12))\n",
    "# dendrogram(Z,color_threshold=8) \n",
    "# # plt.ylim(0,1e8)\n",
    "# # plt.yscale('log')\n",
    "# # plt.ylim(1.5,60)\n",
    "# # plt.title(\"Cluster Dendrogram\", fontsize=30)\n",
    "# plt.ylabel('Log Distance', fontsize=15)\n",
    "# plt.yticks([])\n",
    "# plt.xlabel(\"Cluster Number\", fontsize=15)\n",
    "# plt.xticks(fontsize=20, rotation='horizontal')\n",
    "# plt.show()\n"
   ]
  },
  {
   "cell_type": "code",
   "execution_count": 38,
   "metadata": {},
   "outputs": [],
   "source": [
    "def recluster(df, cl, clusters, n_clusters):\n",
    "    lbls = cl.labels_\n",
    "    mask = np.array([False for i in range(len(lbls))])\n",
    "    for c in clusters:\n",
    "        mask |= lbls==c\n",
    "    subpipe, results = data_pipeline(df[mask])\n",
    "    \n",
    "    ##use cosine similarity! NLTK clustering implementation\n",
    "    #KMeans cluster object as carrier for consistency\n",
    "    subcl = cluster(results, n_clusters)\n",
    "    kclusterer = KMeansClusterer(n_clusters, distance=nltk.cluster.util.cosine_distance, repeats=50)\n",
    "    assigned_clusters = kclusterer.cluster(results, assign_clusters=True)\n",
    "    #assign new cluster labels and cluster centroids\n",
    "    subcl.labels_ = np.array(assigned_clusters)\n",
    "    subcl.cluster_centers_ = np.array(kclusterer.means())\n",
    "    \n",
    "    return subpipe, subcl, results, df[mask]"
   ]
  },
  {
   "cell_type": "code",
   "execution_count": 19,
   "metadata": {},
   "outputs": [],
   "source": [
    "import matplotlib.pyplot as plt\n",
    "import numpy as np\n",
    "import pandas as pd\n",
    "from sklearn.metrics import silhouette_score, silhouette_samples\n",
    "from sklearn.preprocessing import StandardScaler\n",
    "from sklearn.decomposition import PCA\n",
    "from sklearn.pipeline import Pipeline\n",
    "import random\n",
    "from sklearn.cluster import KMeans\n",
    "import matplotlib.cm as cm\n",
    "\n",
    "def sil_scores(X, range_n_clusters ):\n",
    "    result = []\n",
    "    for n_clusters in range_n_clusters:\n",
    "    #     X=data\n",
    "        # Create a subplot with 1 row and 2 columns\n",
    "        fig, (ax1, ax2) = plt.subplots(1, 2)\n",
    "        fig.set_size_inches(18, 7)\n",
    "\n",
    "        # The 1st subplot is the silhouette plot\n",
    "        # The silhouette coefficient can range from -1, 1 but in this example all\n",
    "        # lie within [-0.1, 1]\n",
    "        ax1.set_xlim([-0.1, 1])\n",
    "        # The (n_clusters+1)*10 is for inserting blank space between silhouette\n",
    "        # plots of individual clusters, to demarcate them clearly.\n",
    "        ax1.set_ylim([0, len(X) + (n_clusters + 1) * 10])\n",
    "\n",
    "        # Initialize the clusterer with n_clusters value and a random generator\n",
    "        # seed of 10 for reproducibility.\n",
    "        clusterer = KMeans(n_clusters=n_clusters, n_init=20, max_iter=500)\n",
    "        cluster_labels = clusterer.fit_predict(X)\n",
    "\n",
    "\n",
    "\n",
    "        # The silhouette_score gives the average value for all the samples.\n",
    "        # This gives a perspective into the density and separation of the formed\n",
    "        # clusters\n",
    "        silhouette_avg = silhouette_score(X, cluster_labels)\n",
    "        print(\"For n_clusters =\", n_clusters,\n",
    "              \"The average silhouette_score is :\", silhouette_avg)\n",
    "        result.append(silhouette_avg)\n",
    "    return result\n",
    "\n",
    "def silhouette_plotter(X, range_n_clusters, tsne_X ):\n",
    "    all_scores = []\n",
    "    for n_clusters in range_n_clusters:\n",
    "    #     X=data\n",
    "        # Create a subplot with 1 row and 2 columns\n",
    "        fig, (ax1, ax2) = plt.subplots(1, 2)\n",
    "        fig.set_size_inches(18, 7)\n",
    "\n",
    "        # The 1st subplot is the silhouette plot\n",
    "        # The silhouette coefficient can range from -1, 1 but in this example all\n",
    "        # lie within [-0.1, 1]\n",
    "        ax1.set_xlim([-0.1, 1])\n",
    "        # The (n_clusters+1)*10 is for inserting blank space between silhouette\n",
    "        # plots of individual clusters, to demarcate them clearly.\n",
    "        ax1.set_ylim([0, len(X) + (n_clusters + 1) * 10])\n",
    "\n",
    "        # Initialize the clusterer with n_clusters value and a random generator\n",
    "        # seed of 10 for reproducibility.\n",
    "        clusterer = KMeans(n_clusters=n_clusters, random_state=10)\n",
    "        cluster_labels = clusterer.fit_predict(X)\n",
    "\n",
    "\n",
    "\n",
    "        # The silhouette_score gives the average value for all the samples.\n",
    "        # This gives a perspective into the density and separation of the formed\n",
    "        # clusters\n",
    "        silhouette_avg = silhouette_score(X, cluster_labels)\n",
    "        all_scores.append(silhouette_avg)\n",
    "        print(\"For n_clusters =\", n_clusters,\n",
    "              \"The average silhouette_score is :\", silhouette_avg)\n",
    "\n",
    "\n",
    "        # Compute the silhouette scores for each sample\n",
    "        sample_silhouette_values = silhouette_samples(X, cluster_labels)\n",
    "\n",
    "        y_lower = 10\n",
    "        for i in range(n_clusters):\n",
    "            # Aggregate the silhouette scores for samples belonging to\n",
    "            # cluster i, and sort them\n",
    "            ith_cluster_silhouette_values = \\\n",
    "                sample_silhouette_values[cluster_labels == i]\n",
    "\n",
    "            ith_cluster_silhouette_values.sort()\n",
    "\n",
    "            size_cluster_i = ith_cluster_silhouette_values.shape[0]\n",
    "            y_upper = y_lower + size_cluster_i\n",
    "\n",
    "            color = cm.nipy_spectral(float(i) / 8)\n",
    "            ax1.fill_betweenx(np.arange(y_lower, y_upper),\n",
    "                              0, ith_cluster_silhouette_values,\n",
    "                              facecolor=color, edgecolor=color, alpha=0.7)\n",
    "\n",
    "            # Label the silhouette plots with their cluster numbers at the middle\n",
    "            ax1.text(-0.05, y_lower + 0.5 * size_cluster_i, str(i))\n",
    "\n",
    "            # Compute the new y_lower for next plot\n",
    "            y_lower = y_upper + 10  # 10 for the 0 samples\n",
    "\n",
    "        ax1.set_title(\"The silhouette plot for the various clusters.\")\n",
    "        ax1.set_xlabel(\"The silhouette coefficient values\")\n",
    "        ax1.set_ylabel(\"Cluster label\")\n",
    "\n",
    "        # The vertical line for average silhouette score of all the values\n",
    "        ax1.axvline(x=silhouette_avg, color=\"red\", linestyle=\"--\")\n",
    "\n",
    "        ax1.set_yticks([])  # Clear the yaxis labels / ticks\n",
    "        ax1.set_xticks([-0.1, 0, 0.2, 0.4, 0.6, 0.8, 1])\n",
    "\n",
    "        # 2nd Plot showing the actual clusters formed\n",
    "        colors = cm.nipy_spectral(cluster_labels.astype(float) / 8)\n",
    "        ax2.scatter(tsne_X[:, 0], tsne_X[:, 1], marker='.', s=30, lw=0, alpha=1,\n",
    "                    c=colors, edgecolor='k')\n",
    "\n",
    "            \n",
    "\n",
    "        ax2.set_title(\"The visualization of the clustered data.\")\n",
    "        ax2.set_xlabel(\"Feature space for the 1st feature\")\n",
    "        ax2.set_ylabel(\"Feature space for the 2nd feature\")\n",
    "\n",
    "        #ax2.set_yscale('log')\n",
    "        #ax2.set_xscale('log')\n",
    "        #ax2.set_xlim(.0001,1000)\n",
    "        #ax2.set_ylim(.0001,1000)\n",
    "        plt.suptitle((\"Silhouette analysis for KMeans clustering on sample data \"\n",
    "                      \"with n_clusters = %d\" % n_clusters),\n",
    "                     fontsize=14, fontweight='bold')\n",
    "\n",
    "    plt.show()\n",
    "    return all_scores"
   ]
  },
  {
   "cell_type": "code",
   "execution_count": 20,
   "metadata": {},
   "outputs": [],
   "source": [
    "d_centrality = d"
   ]
  },
  {
   "cell_type": "code",
   "execution_count": 21,
   "metadata": {},
   "outputs": [],
   "source": [
    "d_between = nx.betweenness_centrality(G)"
   ]
  },
  {
   "cell_type": "code",
   "execution_count": 22,
   "metadata": {},
   "outputs": [],
   "source": [
    "d_eigen = nx.eigenvector_centrality(G, max_iter=1000)"
   ]
  },
  {
   "cell_type": "code",
   "execution_count": 23,
   "metadata": {},
   "outputs": [],
   "source": [
    "eigen_frame = pd.DataFrame.from_dict(d_eigen, orient='index')\n",
    "between_frame = pd.DataFrame.from_dict(d_between, orient='index')\n",
    "central_frame = pd.DataFrame.from_dict(d_between, orient='index')"
   ]
  },
  {
   "cell_type": "code",
   "execution_count": 24,
   "metadata": {},
   "outputs": [],
   "source": [
    "frames = [eigen_frame, between_frame, central_frame]\n",
    "df_conc = pd.concat(frames, axis=1)\n",
    "df_conc.columns = ['Eigenvector_Centrality', 'Betweenness_Centrality', 'Centrality']"
   ]
  },
  {
   "cell_type": "code",
   "execution_count": 25,
   "metadata": {},
   "outputs": [
    {
     "data": {
      "text/plain": [
       "(4333, 3)"
      ]
     },
     "execution_count": 25,
     "metadata": {},
     "output_type": "execute_result"
    }
   ],
   "source": [
    "df_conc.shape"
   ]
  },
  {
   "cell_type": "code",
   "execution_count": 26,
   "metadata": {},
   "outputs": [
    {
     "data": {
      "text/html": [
       "<div>\n",
       "<style scoped>\n",
       "    .dataframe tbody tr th:only-of-type {\n",
       "        vertical-align: middle;\n",
       "    }\n",
       "\n",
       "    .dataframe tbody tr th {\n",
       "        vertical-align: top;\n",
       "    }\n",
       "\n",
       "    .dataframe thead th {\n",
       "        text-align: right;\n",
       "    }\n",
       "</style>\n",
       "<table border=\"1\" class=\"dataframe\">\n",
       "  <thead>\n",
       "    <tr style=\"text-align: right;\">\n",
       "      <th></th>\n",
       "      <th>Eigenvector_Centrality</th>\n",
       "      <th>Betweenness_Centrality</th>\n",
       "      <th>Centrality</th>\n",
       "    </tr>\n",
       "  </thead>\n",
       "  <tbody>\n",
       "    <tr>\n",
       "      <th>0</th>\n",
       "      <td>2.906835e-34</td>\n",
       "      <td>0.000000e+00</td>\n",
       "      <td>0.000000e+00</td>\n",
       "    </tr>\n",
       "    <tr>\n",
       "      <th>1</th>\n",
       "      <td>3.821598e-02</td>\n",
       "      <td>2.064344e-03</td>\n",
       "      <td>2.064344e-03</td>\n",
       "    </tr>\n",
       "    <tr>\n",
       "      <th>2</th>\n",
       "      <td>8.551893e-09</td>\n",
       "      <td>3.997998e-04</td>\n",
       "      <td>3.997998e-04</td>\n",
       "    </tr>\n",
       "    <tr>\n",
       "      <th>3</th>\n",
       "      <td>2.835723e-04</td>\n",
       "      <td>5.581527e-03</td>\n",
       "      <td>5.581527e-03</td>\n",
       "    </tr>\n",
       "    <tr>\n",
       "      <th>4</th>\n",
       "      <td>1.957307e-03</td>\n",
       "      <td>1.065991e-07</td>\n",
       "      <td>1.065991e-07</td>\n",
       "    </tr>\n",
       "  </tbody>\n",
       "</table>\n",
       "</div>"
      ],
      "text/plain": [
       "   Eigenvector_Centrality  Betweenness_Centrality    Centrality\n",
       "0            2.906835e-34            0.000000e+00  0.000000e+00\n",
       "1            3.821598e-02            2.064344e-03  2.064344e-03\n",
       "2            8.551893e-09            3.997998e-04  3.997998e-04\n",
       "3            2.835723e-04            5.581527e-03  5.581527e-03\n",
       "4            1.957307e-03            1.065991e-07  1.065991e-07"
      ]
     },
     "execution_count": 26,
     "metadata": {},
     "output_type": "execute_result"
    }
   ],
   "source": [
    "df_conc.head()"
   ]
  },
  {
   "cell_type": "code",
   "execution_count": 27,
   "metadata": {},
   "outputs": [
    {
     "name": "stdout",
     "output_type": "stream",
     "text": [
      "[0 0 0 ... 0 0 0]\n"
     ]
    }
   ],
   "source": [
    "clusters = 7\n",
    "  \n",
    "kmeans = KMeans(n_clusters = clusters) \n",
    "kmeans.fit(df_conc) \n",
    "  \n",
    "print(kmeans.labels_)"
   ]
  },
  {
   "cell_type": "code",
   "execution_count": 28,
   "metadata": {},
   "outputs": [
    {
     "data": {
      "text/plain": [
       "0.16582102770251067"
      ]
     },
     "execution_count": 28,
     "metadata": {},
     "output_type": "execute_result"
    }
   ],
   "source": [
    "kmeans.inertia_"
   ]
  },
  {
   "cell_type": "code",
   "execution_count": 29,
   "metadata": {},
   "outputs": [],
   "source": [
    "pca = PCA(3) \n",
    "pca.fit(df_conc) \n",
    "  \n",
    "pca_data = pd.DataFrame(pca.transform(df_conc)) "
   ]
  },
  {
   "cell_type": "code",
   "execution_count": 30,
   "metadata": {},
   "outputs": [],
   "source": [
    "\n",
    "from scipy import stats\n",
    "pca_data_noutliers = pca_data[(np.abs(stats.zscore(pca_data)) < 3).all(axis=1)]"
   ]
  },
  {
   "cell_type": "code",
   "execution_count": 32,
   "metadata": {},
   "outputs": [
    {
     "name": "stdout",
     "output_type": "stream",
     "text": [
      "[0 0 0 ... 0 1 0]\n"
     ]
    }
   ],
   "source": [
    "pca_data_noutliers.reset_index()\n",
    "clusters = 3\n",
    "  \n",
    "kmeans = KMeans(n_clusters = clusters) \n",
    "kmeans.fit(pca_data_noutliers) \n",
    "  \n",
    "print(kmeans.labels_)"
   ]
  },
  {
   "cell_type": "code",
   "execution_count": 189,
   "metadata": {},
   "outputs": [
    {
     "data": {
      "image/png": "[encoded data removed]",
      "text/plain": [
       "<Figure size 432x288 with 1 Axes>"
      ]
     },
     "metadata": {},
     "output_type": "display_data"
    }
   ],
   "source": [
    "from matplotlib import colors as mcolors \n",
    "import math \n",
    "     \n",
    "''' Generating different colors in ascending order  \n",
    "                                of their hsv values '''\n",
    "colors = list(zip(*sorted(( \n",
    "                    tuple(mcolors.rgb_to_hsv( \n",
    "                          mcolors.to_rgba(color)[:3])), name) \n",
    "                     for name, color in dict( \n",
    "                            mcolors.BASE_COLORS, **mcolors.CSS4_COLORS \n",
    "                                                      ).items())))[1] \n",
    "   \n",
    "   \n",
    "# number of steps to taken generate n(clusters) colors  \n",
    "skips = math.floor(len(colors[5 : -5])/clusters) \n",
    "cluster_colors = colors[5 : -5 : skips] \n",
    "\n",
    "\n",
    "from mpl_toolkits.mplot3d import Axes3D \n",
    "import matplotlib.pyplot as plt \n",
    "   \n",
    "fig = plt.figure() \n",
    "ax = fig.add_subplot(111, projection = '3d') \n",
    "ax.scatter(pca_data_noutliers[0], pca_data_noutliers[1], pca_data_noutliers[2],  \n",
    "           c = list(map(lambda label : cluster_colors[label], \n",
    "                                            kmeans.labels_))) \n",
    "# ax.set_xlim(0, .15)\n",
    "# ax.set_ylim(-.05, .25)\n",
    "# ax.set_zlim(-.25, .05)\n",
    "ax.set_xlabel('Eigenvector Centrality')\n",
    "ax.set_ylabel('Betweenness Centrality')\n",
    "ax.set_zlabel('Centrality')\n",
    "str_labels = list(map(lambda label:'% s' % label, kmeans.labels_)) \n",
    "   \n",
    "# list(map(lambda data1, data2, data3, str_label: \n",
    "#          ax.text(data1, data2, data3, s = str_label, size = 16.5, \n",
    "#          zorder = 20, color = 'k'), pca_data[0], pca_data[1], \n",
    "#          pca_data[2], str_labels)) \n",
    "# for angle in range(0, 360):\n",
    "#     ax.view_init(0, angle)\n",
    "#     plt.draw()\n",
    "#     plt.pause(.001)\n",
    " "
   ]
  },
  {
   "cell_type": "code",
   "execution_count": 35,
   "metadata": {},
   "outputs": [
    {
     "name": "stdout",
     "output_type": "stream",
     "text": [
      "Estimated number of clusters: 1\n",
      "Estimated number of noise points: 4306\n",
      "Homogeneity: 0.005\n",
      "Completeness: 1.000\n",
      "V-measure: 0.009\n",
      "Adjusted Rand Index: 0.000\n",
      "Adjusted Mutual Information: -0.000\n"
     ]
    },
    {
     "name": "stderr",
     "output_type": "stream",
     "text": [
      "/home/ec2-user/anaconda3/envs/amazonei_tensorflow_p36/lib/python3.6/site-packages/sklearn/metrics/cluster/supervised.py:732: FutureWarning: The behavior of AMI will change in version 0.22. To match the behavior of 'v_measure_score', AMI will use average_method='arithmetic' by default.\n",
      "  FutureWarning)\n"
     ]
    },
    {
     "name": "stdout",
     "output_type": "stream",
     "text": [
      "Silhouette Coefficient: 0.009\n"
     ]
    }
   ],
   "source": [
    "from sklearn.cluster import DBSCAN\n",
    "from sklearn.metrics import homogeneity_score, completeness_score,v_measure_score, adjusted_rand_score, adjusted_mutual_info_score, silhouette_score\n",
    "\n",
    "\n",
    "db = DBSCAN(eps=0.3, min_samples=10).fit(pca_data_)\n",
    "core_samples_mask = np.zeros_like(db.labels_, dtype=bool)\n",
    "core_samples_mask[db.core_sample_indices_] = True\n",
    "labels = db.labels_\n",
    "\n",
    "# Number of clusters in labels, ignoring noise if present.\n",
    "n_clusters_ = len(set(labels)) - (1 if -1 in labels else 0)\n",
    "n_noise_ = list(labels).count(-1)\n",
    "labels_true = results.columns\n",
    "\n",
    "print('Estimated number of clusters: %d' % n_clusters_)\n",
    "print('Estimated number of noise points: %d' % n_noise_)\n",
    "print(\"Homogeneity: %0.3f\" % homogeneity_score(labels_true, labels))\n",
    "print(\"Completeness: %0.3f\" % completeness_score(labels_true, labels))\n",
    "print(\"V-measure: %0.3f\" % v_measure_score(labels_true, labels))\n",
    "print(\"Adjusted Rand Index: %0.3f\"\n",
    "      % adjusted_rand_score(labels_true, labels))\n",
    "print(\"Adjusted Mutual Information: %0.3f\"\n",
    "      % adjusted_mutual_info_score(labels_true, labels))\n",
    "print(\"Silhouette Coefficient: %0.3f\"\n",
    "      % silhouette_score(X, labels))"
   ]
  },
  {
   "cell_type": "code",
   "execution_count": 36,
   "metadata": {},
   "outputs": [
    {
     "data": {
      "image/png": "[encoded data removed]",
      "text/plain": [
       "<Figure size 432x288 with 1 Axes>"
      ]
     },
     "metadata": {},
     "output_type": "display_data"
    }
   ],
   "source": [
    "# Plot result\n",
    "import matplotlib.pyplot as plt\n",
    "\n",
    "# Black removed and is used for noise instead.\n",
    "unique_labels = set(labels)\n",
    "colors = [plt.cm.Spectral(each)\n",
    "          for each in np.linspace(0, 1, len(unique_labels))]\n",
    "for k, col in zip(unique_labels, colors):\n",
    "    if k == -1:\n",
    "        # Black used for noise.\n",
    "        col = [0, 0, 0, 1]\n",
    "\n",
    "    class_member_mask = (labels == k)\n",
    "\n",
    "    xy = X[class_member_mask & core_samples_mask]\n",
    "    plt.plot(xy[:, 0], xy[:, 1], 'o', markerfacecolor=tuple(col),\n",
    "             markeredgecolor='k', markersize=14)\n",
    "\n",
    "    xy = X[class_member_mask & ~core_samples_mask]\n",
    "    plt.plot(xy[:, 0], xy[:, 1], 'o', markerfacecolor=tuple(col),\n",
    "             markeredgecolor='k', markersize=6)\n",
    "\n",
    "plt.title('Estimated number of clusters: %d' % n_clusters_)\n",
    "plt.show()"
   ]
  },
  {
   "cell_type": "code",
   "execution_count": 37,
   "metadata": {},
   "outputs": [],
   "source": [
    "from sklearn.cluster import KMeans\n",
    "kmeans = KMeans(n_clusters=4)\n",
    "kmeans.fit(pca_data)\n",
    "y_kmeans = kmeans.predict(pca_data)"
   ]
  },
  {
   "cell_type": "code",
   "execution_count": 108,
   "metadata": {},
   "outputs": [
    {
     "data": {
      "text/plain": [
       "4333"
      ]
     },
     "execution_count": 108,
     "metadata": {},
     "output_type": "execute_result"
    }
   ],
   "source": [
    "len(y_kmeans)"
   ]
  },
  {
   "cell_type": "code",
   "execution_count": 39,
   "metadata": {},
   "outputs": [
    {
     "data": {
      "text/plain": [
       "array([0, 1, 2, 3], dtype=int32)"
      ]
     },
     "execution_count": 39,
     "metadata": {},
     "output_type": "execute_result"
    }
   ],
   "source": [
    "np.unique(y_kmeans)"
   ]
  },
  {
   "cell_type": "code",
   "execution_count": 40,
   "metadata": {},
   "outputs": [],
   "source": [
    "import tensorflow as tf\n",
    "from keras.layers import Input, Dense\n",
    "from keras.models import Model\n",
    "\n",
    "# this is the size of our encoded representations\n",
    "encoding_dim = 32  # 32 floats -> compression of factor 24.5, assuming the input is 784 floats\n",
    "\n",
    "# this is our input placeholder\n",
    "input_img = Input(shape=(784,))\n",
    "# \"encoded\" is the encoded representation of the input\n",
    "encoded = Dense(encoding_dim, activation='relu')(input_img)\n",
    "# \"decoded\" is the lossy reconstruction of the input\n",
    "decoded = Dense(784, activation='sigmoid')(encoded)\n",
    "\n",
    "# this model maps an input to its reconstruction\n",
    "autoencoder = Model(input_img, decoded)\n"
   ]
  },
  {
   "cell_type": "code",
   "execution_count": 4,
   "metadata": {},
   "outputs": [],
   "source": [
    "import tensorflow as tf\n",
    "from matplotlib import pyplot as plt\n",
    "from tensorflow.keras.layers import Dense\n",
    "import numpy as np"
   ]
  },
  {
   "cell_type": "code",
   "execution_count": 162,
   "metadata": {},
   "outputs": [
    {
     "name": "stdout",
     "output_type": "stream",
     "text": [
      "Collecting tensorflow\n",
      "\u001b[?25l  Downloading https://files.pythonhosted.org/packages/de/f0/96fb2e0412ae9692dbf400e5b04432885f677ad6241c088ccc5fe7724d69/tensorflow-1.14.0-cp36-cp36m-manylinux1_x86_64.whl (109.2MB)\n",
      "\u001b[K    100% |████████████████████████████████| 109.2MB 506kB/s  eta 0:00:01   36% |███████████▊                    | 39.9MB 89.9MB/s eta 0:00:01\n",
      "\u001b[?25hCollecting wrapt>=1.11.1 (from tensorflow)\n",
      "  Downloading https://files.pythonhosted.org/packages/ee/bc/7993faa8084b5a5dbabb07a197ae1b7590da4752dc80455d878573553e2f/wrapt-1.12.0.tar.gz\n",
      "Collecting grpcio>=1.8.6 (from tensorflow)\n",
      "\u001b[?25l  Downloading https://files.pythonhosted.org/packages/f1/97/bece4417f349f8f83252232ef66ea63eb47f8044ca61b51e2a478e2c7a94/grpcio-1.27.2-cp36-cp36m-manylinux1_x86_64.whl (2.7MB)\n",
      "\u001b[K    100% |████████████████████████████████| 2.7MB 18.8MB/s eta 0:00:01\n",
      "\u001b[?25hRequirement already satisfied: wheel>=0.26 in /home/ec2-user/anaconda3/envs/pytorch_p36/lib/python3.6/site-packages (from tensorflow) (0.31.1)\n",
      "Requirement already satisfied: numpy<2.0,>=1.14.5 in /home/ec2-user/anaconda3/envs/pytorch_p36/lib/python3.6/site-packages (from tensorflow) (1.15.4)\n",
      "Collecting google-pasta>=0.1.6 (from tensorflow)\n",
      "\u001b[?25l  Downloading https://files.pythonhosted.org/packages/c3/fd/1e86bc4837cc9a3a5faf3db9b1854aa04ad35b5f381f9648fbe81a6f94e4/google_pasta-0.1.8-py3-none-any.whl (57kB)\n",
      "\u001b[K    100% |████████████████████████████████| 61kB 50.3MB/s ta 0:00:01\n",
      "\u001b[?25hCollecting keras-preprocessing>=1.0.5 (from tensorflow)\n",
      "\u001b[?25l  Downloading https://files.pythonhosted.org/packages/28/6a/8c1f62c37212d9fc441a7e26736df51ce6f0e38455816445471f10da4f0a/Keras_Preprocessing-1.1.0-py2.py3-none-any.whl (41kB)\n",
      "\u001b[K    100% |████████████████████████████████| 51kB 47.2MB/s ta 0:00:01\n",
      "\u001b[?25hCollecting keras-applications>=1.0.6 (from tensorflow)\n",
      "\u001b[?25l  Downloading https://files.pythonhosted.org/packages/71/e3/19762fdfc62877ae9102edf6342d71b28fbfd9dea3d2f96a882ce099b03f/Keras_Applications-1.0.8-py3-none-any.whl (50kB)\n",
      "\u001b[K    100% |████████████████████████████████| 51kB 46.2MB/s ta 0:00:01\n",
      "\u001b[?25hCollecting termcolor>=1.1.0 (from tensorflow)\n",
      "  Downloading https://files.pythonhosted.org/packages/8a/48/a76be51647d0eb9f10e2a4511bf3ffb8cc1e6b14e9e4fab46173aa79f981/termcolor-1.1.0.tar.gz\n",
      "Collecting gast>=0.2.0 (from tensorflow)\n",
      "  Downloading https://files.pythonhosted.org/packages/d6/84/759f5dd23fec8ba71952d97bcc7e2c9d7d63bdc582421f3cd4be845f0c98/gast-0.3.3-py2.py3-none-any.whl\n",
      "Collecting absl-py>=0.7.0 (from tensorflow)\n",
      "\u001b[?25l  Downloading https://files.pythonhosted.org/packages/1a/53/9243c600e047bd4c3df9e69cfabc1e8004a82cac2e0c484580a78a94ba2a/absl-py-0.9.0.tar.gz (104kB)\n",
      "\u001b[K    100% |████████████████████████████████| 112kB 65.6MB/s ta 0:00:01\n",
      "\u001b[?25hCollecting protobuf>=3.6.1 (from tensorflow)\n",
      "\u001b[?25l  Downloading https://files.pythonhosted.org/packages/57/02/5432412c162989260fab61fa65e0a490c1872739eb91a659896e4d554b26/protobuf-3.11.3-cp36-cp36m-manylinux1_x86_64.whl (1.3MB)\n",
      "\u001b[K    100% |████████████████████████████████| 1.3MB 32.3MB/s eta 0:00:01\n",
      "\u001b[?25hCollecting tensorboard<1.15.0,>=1.14.0 (from tensorflow)\n",
      "\u001b[?25l  Downloading https://files.pythonhosted.org/packages/91/2d/2ed263449a078cd9c8a9ba50ebd50123adf1f8cfbea1492f9084169b89d9/tensorboard-1.14.0-py3-none-any.whl (3.1MB)\n",
      "\u001b[K    100% |████████████████████████████████| 3.2MB 18.0MB/s eta 0:00:01\n",
      "\u001b[?25hCollecting astor>=0.6.0 (from tensorflow)\n",
      "  Downloading https://files.pythonhosted.org/packages/c3/88/97eef84f48fa04fbd6750e62dcceafba6c63c81b7ac1420856c8dcc0a3f9/astor-0.8.1-py2.py3-none-any.whl\n",
      "Collecting tensorflow-estimator<1.15.0rc0,>=1.14.0rc0 (from tensorflow)\n",
      "\u001b[?25l  Downloading https://files.pythonhosted.org/packages/3c/d5/21860a5b11caf0678fbc8319341b0ae21a07156911132e0e71bffed0510d/tensorflow_estimator-1.14.0-py2.py3-none-any.whl (488kB)\n",
      "\u001b[K    100% |████████████████████████████████| 491kB 55.5MB/s eta 0:00:01\n",
      "\u001b[?25hRequirement already satisfied: six>=1.10.0 in /home/ec2-user/anaconda3/envs/pytorch_p36/lib/python3.6/site-packages (from tensorflow) (1.11.0)\n",
      "Requirement already satisfied: h5py in /home/ec2-user/anaconda3/envs/pytorch_p36/lib/python3.6/site-packages (from keras-applications>=1.0.6->tensorflow) (2.8.0)\n",
      "Requirement already satisfied: setuptools in /home/ec2-user/anaconda3/envs/pytorch_p36/lib/python3.6/site-packages (from protobuf>=3.6.1->tensorflow) (39.1.0)\n",
      "Requirement already satisfied: werkzeug>=0.11.15 in /home/ec2-user/anaconda3/envs/pytorch_p36/lib/python3.6/site-packages (from tensorboard<1.15.0,>=1.14.0->tensorflow) (0.14.1)\n",
      "Collecting markdown>=2.6.8 (from tensorboard<1.15.0,>=1.14.0->tensorflow)\n",
      "\u001b[?25l  Downloading https://files.pythonhosted.org/packages/ab/c4/ba46d44855e6eb1770a12edace5a165a0c6de13349f592b9036257f3c3d3/Markdown-3.2.1-py2.py3-none-any.whl (88kB)\n",
      "\u001b[K    100% |████████████████████████████████| 92kB 62.5MB/s ta 0:00:01\n",
      "\u001b[?25hBuilding wheels for collected packages: wrapt, termcolor, absl-py\n",
      "  Running setup.py bdist_wheel for wrapt ... \u001b[?25ldone\n",
      "\u001b[?25h  Stored in directory: /home/ec2-user/.cache/pip/wheels/54/f9/95/099544e9f879f719b14cf567fabb5aa7984263df0f025f3eef\n",
      "  Running setup.py bdist_wheel for termcolor ... \u001b[?25ldone\n",
      "\u001b[?25h  Stored in directory: /home/ec2-user/.cache/pip/wheels/7c/06/54/bc84598ba1daf8f970247f550b175aaaee85f68b4b0c5ab2c6\n",
      "  Running setup.py bdist_wheel for absl-py ... \u001b[?25ldone\n",
      "\u001b[?25h  Stored in directory: /home/ec2-user/.cache/pip/wheels/8e/28/49/fad4e7f0b9a1227708cbbee4487ac8558a7334849cb81c813d\n",
      "Successfully built wrapt termcolor absl-py\n",
      "\u001b[31mfastai 1.0.59 requires nvidia-ml-py3, which is not installed.\u001b[0m\n",
      "\u001b[31mtensorboard 1.14.0 has requirement setuptools>=41.0.0, but you'll have setuptools 39.1.0 which is incompatible.\u001b[0m\n",
      "Installing collected packages: wrapt, grpcio, google-pasta, keras-preprocessing, keras-applications, termcolor, gast, absl-py, protobuf, markdown, tensorboard, astor, tensorflow-estimator, tensorflow\n",
      "  Found existing installation: wrapt 1.10.11\n",
      "\u001b[31mCannot uninstall 'wrapt'. It is a distutils installed project and thus we cannot accurately determine which files belong to it which would lead to only a partial uninstall.\u001b[0m\n",
      "\u001b[33mYou are using pip version 10.0.1, however version 20.0.2 is available.\n",
      "You should consider upgrading via the 'pip install --upgrade pip' command.\u001b[0m\n"
     ]
    }
   ],
   "source": [
    "!pip install tensorflow"
   ]
  },
  {
   "cell_type": "code",
   "execution_count": 51,
   "metadata": {},
   "outputs": [
    {
     "ename": "TypeError",
     "evalue": "The added layer must be an instance of class Layer. Found: <keras.layers.core.Dense object at 0x7f8d000a7a20>",
     "output_type": "error",
     "traceback": [
      "\u001b[0;31m---------------------------------------------------------------------------\u001b[0m",
      "\u001b[0;31mTypeError\u001b[0m                                 Traceback (most recent call last)",
      "\u001b[0;32m<ipython-input-51-b472bffb5e42>\u001b[0m in \u001b[0;36m<module>\u001b[0;34m()\u001b[0m\n\u001b[1;32m      1\u001b[0m \u001b[0mmodel\u001b[0m \u001b[0;34m=\u001b[0m \u001b[0mtf\u001b[0m\u001b[0;34m.\u001b[0m\u001b[0mkeras\u001b[0m\u001b[0;34m.\u001b[0m\u001b[0mmodels\u001b[0m\u001b[0;34m.\u001b[0m\u001b[0mSequential\u001b[0m\u001b[0;34m(\u001b[0m\u001b[0;34m)\u001b[0m\u001b[0;34m\u001b[0m\u001b[0m\n\u001b[0;32m----> 2\u001b[0;31m \u001b[0mmodel\u001b[0m\u001b[0;34m.\u001b[0m\u001b[0madd\u001b[0m\u001b[0;34m(\u001b[0m\u001b[0mDense\u001b[0m\u001b[0;34m(\u001b[0m\u001b[0;36m128\u001b[0m\u001b[0;34m,\u001b[0m  \u001b[0mactivation\u001b[0m\u001b[0;34m=\u001b[0m\u001b[0;34m'relu'\u001b[0m\u001b[0;34m,\u001b[0m \u001b[0minput_shape\u001b[0m\u001b[0;34m=\u001b[0m\u001b[0;34m(\u001b[0m\u001b[0;36m4333\u001b[0m\u001b[0;34m,\u001b[0m\u001b[0;34m)\u001b[0m\u001b[0;34m)\u001b[0m\u001b[0;34m)\u001b[0m\u001b[0;34m\u001b[0m\u001b[0m\n\u001b[0m\u001b[1;32m      3\u001b[0m \u001b[0;31m# model.add(Dense(64,  activation='relu'))\u001b[0m\u001b[0;34m\u001b[0m\u001b[0;34m\u001b[0m\u001b[0m\n\u001b[1;32m      4\u001b[0m \u001b[0;31m# model.add(Dense(2,    activation='linear', name=\"bottleneck\"))\u001b[0m\u001b[0;34m\u001b[0m\u001b[0;34m\u001b[0m\u001b[0m\n\u001b[1;32m      5\u001b[0m \u001b[0;31m# model.add(Dense(64,  activation='relu'))\u001b[0m\u001b[0;34m\u001b[0m\u001b[0;34m\u001b[0m\u001b[0m\n",
      "\u001b[0;32m~/anaconda3/envs/amazonei_tensorflow_p36/lib/python3.6/site-packages/tensorflow/python/training/tracking/base.py\u001b[0m in \u001b[0;36m_method_wrapper\u001b[0;34m(self, *args, **kwargs)\u001b[0m\n\u001b[1;32m    455\u001b[0m     \u001b[0mself\u001b[0m\u001b[0;34m.\u001b[0m\u001b[0m_self_setattr_tracking\u001b[0m \u001b[0;34m=\u001b[0m \u001b[0;32mFalse\u001b[0m  \u001b[0;31m# pylint: disable=protected-access\u001b[0m\u001b[0;34m\u001b[0m\u001b[0m\n\u001b[1;32m    456\u001b[0m     \u001b[0;32mtry\u001b[0m\u001b[0;34m:\u001b[0m\u001b[0;34m\u001b[0m\u001b[0m\n\u001b[0;32m--> 457\u001b[0;31m       \u001b[0mresult\u001b[0m \u001b[0;34m=\u001b[0m \u001b[0mmethod\u001b[0m\u001b[0;34m(\u001b[0m\u001b[0mself\u001b[0m\u001b[0;34m,\u001b[0m \u001b[0;34m*\u001b[0m\u001b[0margs\u001b[0m\u001b[0;34m,\u001b[0m \u001b[0;34m**\u001b[0m\u001b[0mkwargs\u001b[0m\u001b[0;34m)\u001b[0m\u001b[0;34m\u001b[0m\u001b[0m\n\u001b[0m\u001b[1;32m    458\u001b[0m     \u001b[0;32mfinally\u001b[0m\u001b[0;34m:\u001b[0m\u001b[0;34m\u001b[0m\u001b[0m\n\u001b[1;32m    459\u001b[0m       \u001b[0mself\u001b[0m\u001b[0;34m.\u001b[0m\u001b[0m_self_setattr_tracking\u001b[0m \u001b[0;34m=\u001b[0m \u001b[0mprevious_value\u001b[0m  \u001b[0;31m# pylint: disable=protected-access\u001b[0m\u001b[0;34m\u001b[0m\u001b[0m\n",
      "\u001b[0;32m~/anaconda3/envs/amazonei_tensorflow_p36/lib/python3.6/site-packages/tensorflow/python/keras/engine/sequential.py\u001b[0m in \u001b[0;36madd\u001b[0;34m(self, layer)\u001b[0m\n\u001b[1;32m    152\u001b[0m       raise TypeError('The added layer must be '\n\u001b[1;32m    153\u001b[0m                       \u001b[0;34m'an instance of class Layer. '\u001b[0m\u001b[0;34m\u001b[0m\u001b[0m\n\u001b[0;32m--> 154\u001b[0;31m                       'Found: ' + str(layer))\n\u001b[0m\u001b[1;32m    155\u001b[0m \u001b[0;34m\u001b[0m\u001b[0m\n\u001b[1;32m    156\u001b[0m     \u001b[0mtf_utils\u001b[0m\u001b[0;34m.\u001b[0m\u001b[0massert_no_legacy_layers\u001b[0m\u001b[0;34m(\u001b[0m\u001b[0;34m[\u001b[0m\u001b[0mlayer\u001b[0m\u001b[0;34m]\u001b[0m\u001b[0;34m)\u001b[0m\u001b[0;34m\u001b[0m\u001b[0m\n",
      "\u001b[0;31mTypeError\u001b[0m: The added layer must be an instance of class Layer. Found: <keras.layers.core.Dense object at 0x7f8d000a7a20>"
     ]
    }
   ],
   "source": [
    "import tensorflow as tf\n",
    "from matplotlib import pyplot as plt\n",
    "from tensorflow.keras.layers import Dense\n",
    "import numpy as np\n",
    "\n",
    "model = tf.keras.models.Sequential()\n",
    "model.add(Dense(128,  activation='relu', input_shape=(4333,)))\n",
    "# model.add(Dense(64,  activation='relu'))\n",
    "# model.add(Dense(2,    activation='linear', name=\"bottleneck\"))\n",
    "# model.add(Dense(64,  activation='relu'))\n",
    "# model.add(Dense(128,  activation='relu'))\n",
    "# model.add(Dense(784,  activation='linear'))\n",
    "model.compile(loss='mean_squared_error', optimizer = 'adam')"
   ]
  },
  {
   "cell_type": "code",
   "execution_count": 50,
   "metadata": {},
   "outputs": [
    {
     "ename": "RuntimeError",
     "evalue": "You must compile your model before training/testing. Use `model.compile(optimizer, loss)`.",
     "output_type": "error",
     "traceback": [
      "\u001b[0;31m---------------------------------------------------------------------------\u001b[0m",
      "\u001b[0;31mRuntimeError\u001b[0m                              Traceback (most recent call last)",
      "\u001b[0;32m<ipython-input-50-9e2ae0a58712>\u001b[0m in \u001b[0;36m<module>\u001b[0;34m()\u001b[0m\n\u001b[1;32m      1\u001b[0m \u001b[0mX\u001b[0m \u001b[0;34m=\u001b[0m \u001b[0mnp\u001b[0m\u001b[0;34m.\u001b[0m\u001b[0marray\u001b[0m\u001b[0;34m(\u001b[0m\u001b[0mpca_data_noutliers\u001b[0m\u001b[0;34m)\u001b[0m\u001b[0;34m\u001b[0m\u001b[0m\n\u001b[1;32m      2\u001b[0m \u001b[0;34m\u001b[0m\u001b[0m\n\u001b[0;32m----> 3\u001b[0;31m \u001b[0mmodel\u001b[0m\u001b[0;34m.\u001b[0m\u001b[0mfit\u001b[0m\u001b[0;34m(\u001b[0m\u001b[0mX\u001b[0m\u001b[0;34m)\u001b[0m\u001b[0;34m\u001b[0m\u001b[0m\n\u001b[0m",
      "\u001b[0;32m~/anaconda3/envs/amazonei_tensorflow_p36/lib/python3.6/site-packages/tensorflow/python/keras/engine/training.py\u001b[0m in \u001b[0;36mfit\u001b[0;34m(self, x, y, batch_size, epochs, verbose, callbacks, validation_split, validation_data, shuffle, class_weight, sample_weight, initial_epoch, steps_per_epoch, validation_steps, validation_freq, max_queue_size, workers, use_multiprocessing, **kwargs)\u001b[0m\n\u001b[1;32m    596\u001b[0m     \u001b[0;32mif\u001b[0m \u001b[0mkwargs\u001b[0m\u001b[0;34m:\u001b[0m\u001b[0;34m\u001b[0m\u001b[0m\n\u001b[1;32m    597\u001b[0m       \u001b[0;32mraise\u001b[0m \u001b[0mTypeError\u001b[0m\u001b[0;34m(\u001b[0m\u001b[0;34m'Unrecognized keyword arguments: '\u001b[0m \u001b[0;34m+\u001b[0m \u001b[0mstr\u001b[0m\u001b[0;34m(\u001b[0m\u001b[0mkwargs\u001b[0m\u001b[0;34m)\u001b[0m\u001b[0;34m)\u001b[0m\u001b[0;34m\u001b[0m\u001b[0m\n\u001b[0;32m--> 598\u001b[0;31m     \u001b[0mself\u001b[0m\u001b[0;34m.\u001b[0m\u001b[0m_assert_compile_was_called\u001b[0m\u001b[0;34m(\u001b[0m\u001b[0;34m)\u001b[0m\u001b[0;34m\u001b[0m\u001b[0m\n\u001b[0m\u001b[1;32m    599\u001b[0m \u001b[0;34m\u001b[0m\u001b[0m\n\u001b[1;32m    600\u001b[0m     \u001b[0;31m# Case 1: distribution strategy.\u001b[0m\u001b[0;34m\u001b[0m\u001b[0;34m\u001b[0m\u001b[0m\n",
      "\u001b[0;32m~/anaconda3/envs/amazonei_tensorflow_p36/lib/python3.6/site-packages/tensorflow/python/keras/engine/training.py\u001b[0m in \u001b[0;36m_assert_compile_was_called\u001b[0;34m(self)\u001b[0m\n\u001b[1;32m   2932\u001b[0m     \u001b[0;31m# (i.e. whether the model is built and its inputs/outputs are set).\u001b[0m\u001b[0;34m\u001b[0m\u001b[0;34m\u001b[0m\u001b[0m\n\u001b[1;32m   2933\u001b[0m     \u001b[0;32mif\u001b[0m \u001b[0;32mnot\u001b[0m \u001b[0mself\u001b[0m\u001b[0;34m.\u001b[0m\u001b[0moptimizer\u001b[0m\u001b[0;34m:\u001b[0m\u001b[0;34m\u001b[0m\u001b[0m\n\u001b[0;32m-> 2934\u001b[0;31m       raise RuntimeError('You must compile your model before '\n\u001b[0m\u001b[1;32m   2935\u001b[0m                          \u001b[0;34m'training/testing. '\u001b[0m\u001b[0;34m\u001b[0m\u001b[0m\n\u001b[1;32m   2936\u001b[0m                          'Use `model.compile(optimizer, loss)`.')\n",
      "\u001b[0;31mRuntimeError\u001b[0m: You must compile your model before training/testing. Use `model.compile(optimizer, loss)`."
     ]
    }
   ],
   "source": [
    "X = np.array(pca_data_noutliers)\n",
    "\n",
    "model.fit(X)"
   ]
  },
  {
   "cell_type": "code",
   "execution_count": 49,
   "metadata": {},
   "outputs": [
    {
     "ename": "ValueError",
     "evalue": "This model has not yet been built. Build the model first by calling `build()` or calling `fit()` with some data, or specify an `input_shape` argument in the first layer(s) for automatic build.",
     "output_type": "error",
     "traceback": [
      "\u001b[0;31m---------------------------------------------------------------------------\u001b[0m",
      "\u001b[0;31mValueError\u001b[0m                                Traceback (most recent call last)",
      "\u001b[0;32m<ipython-input-49-5f15418b3570>\u001b[0m in \u001b[0;36m<module>\u001b[0;34m()\u001b[0m\n\u001b[0;32m----> 1\u001b[0;31m \u001b[0mmodel\u001b[0m\u001b[0;34m.\u001b[0m\u001b[0msummary\u001b[0m\u001b[0;34m(\u001b[0m\u001b[0;34m)\u001b[0m\u001b[0;34m\u001b[0m\u001b[0m\n\u001b[0m",
      "\u001b[0;32m~/anaconda3/envs/amazonei_tensorflow_p36/lib/python3.6/site-packages/tensorflow/python/keras/engine/network.py\u001b[0m in \u001b[0;36msummary\u001b[0;34m(self, line_length, positions, print_fn)\u001b[0m\n\u001b[1;32m   1502\u001b[0m     \"\"\"\n\u001b[1;32m   1503\u001b[0m     \u001b[0;32mif\u001b[0m \u001b[0;32mnot\u001b[0m \u001b[0mself\u001b[0m\u001b[0;34m.\u001b[0m\u001b[0mbuilt\u001b[0m\u001b[0;34m:\u001b[0m\u001b[0;34m\u001b[0m\u001b[0m\n\u001b[0;32m-> 1504\u001b[0;31m       raise ValueError('This model has not yet been built. '\n\u001b[0m\u001b[1;32m   1505\u001b[0m                        \u001b[0;34m'Build the model first by calling `build()` or calling '\u001b[0m\u001b[0;34m\u001b[0m\u001b[0m\n\u001b[1;32m   1506\u001b[0m                        \u001b[0;34m'`fit()` with some data, or specify '\u001b[0m\u001b[0;34m\u001b[0m\u001b[0m\n",
      "\u001b[0;31mValueError\u001b[0m: This model has not yet been built. Build the model first by calling `build()` or calling `fit()` with some data, or specify an `input_shape` argument in the first layer(s) for automatic build."
     ]
    }
   ],
   "source": [
    "model.summary()"
   ]
  },
  {
   "cell_type": "code",
   "execution_count": 75,
   "metadata": {},
   "outputs": [],
   "source": [
    "# from keras.models import Sequential\n",
    "# from keras.layers import Dense, Conv2D, Dropout, Flatten, MaxPooling2D\n",
    "# # Creating a Sequential Model and adding the layers\n",
    "# input_shape = 4333\n",
    "\n",
    "# model = Sequential()\n",
    "# model.add(Conv2D(28, kernel_size=(3,3), input_shape=input_shape))\n",
    "# model.add(MaxPooling2D(pool_size=(2, 2)))\n",
    "# model.add(Flatten()) # Flattening the 2D arrays for fully connected layers\n",
    "# model.add(Dense(128, activation=tf.nn.relu))\n",
    "# model.add(Dropout(0.2))\n",
    "# model.add(Dense(10,activation=tf.nn.softmax))"
   ]
  },
  {
   "cell_type": "code",
   "execution_count": 55,
   "metadata": {},
   "outputs": [
    {
     "data": {
      "text/html": [
       "<div>\n",
       "<style scoped>\n",
       "    .dataframe tbody tr th:only-of-type {\n",
       "        vertical-align: middle;\n",
       "    }\n",
       "\n",
       "    .dataframe tbody tr th {\n",
       "        vertical-align: top;\n",
       "    }\n",
       "\n",
       "    .dataframe thead th {\n",
       "        text-align: right;\n",
       "    }\n",
       "</style>\n",
       "<table border=\"1\" class=\"dataframe\">\n",
       "  <thead>\n",
       "    <tr style=\"text-align: right;\">\n",
       "      <th></th>\n",
       "      <th>0</th>\n",
       "      <th>1</th>\n",
       "      <th>2</th>\n",
       "    </tr>\n",
       "  </thead>\n",
       "  <tbody>\n",
       "    <tr>\n",
       "      <th>0</th>\n",
       "      <td>-0.002527</td>\n",
       "      <td>-0.004499</td>\n",
       "      <td>2.506885e-19</td>\n",
       "    </tr>\n",
       "    <tr>\n",
       "      <th>1</th>\n",
       "      <td>0.035329</td>\n",
       "      <td>-0.010496</td>\n",
       "      <td>9.398183e-20</td>\n",
       "    </tr>\n",
       "    <tr>\n",
       "      <th>2</th>\n",
       "      <td>-0.002396</td>\n",
       "      <td>-0.003949</td>\n",
       "      <td>4.440155e-19</td>\n",
       "    </tr>\n",
       "    <tr>\n",
       "      <th>3</th>\n",
       "      <td>-0.000425</td>\n",
       "      <td>0.003115</td>\n",
       "      <td>-1.584324e-19</td>\n",
       "    </tr>\n",
       "    <tr>\n",
       "      <th>4</th>\n",
       "      <td>-0.000622</td>\n",
       "      <td>-0.004951</td>\n",
       "      <td>1.961292e-19</td>\n",
       "    </tr>\n",
       "    <tr>\n",
       "      <th>5</th>\n",
       "      <td>0.009954</td>\n",
       "      <td>-0.005140</td>\n",
       "      <td>2.177764e-19</td>\n",
       "    </tr>\n",
       "    <tr>\n",
       "      <th>6</th>\n",
       "      <td>0.000091</td>\n",
       "      <td>-0.003958</td>\n",
       "      <td>3.466423e-19</td>\n",
       "    </tr>\n",
       "    <tr>\n",
       "      <th>7</th>\n",
       "      <td>-0.001932</td>\n",
       "      <td>-0.004058</td>\n",
       "      <td>4.609466e-19</td>\n",
       "    </tr>\n",
       "    <tr>\n",
       "      <th>8</th>\n",
       "      <td>-0.002439</td>\n",
       "      <td>-0.004519</td>\n",
       "      <td>2.506885e-19</td>\n",
       "    </tr>\n",
       "    <tr>\n",
       "      <th>9</th>\n",
       "      <td>-0.002004</td>\n",
       "      <td>-0.002299</td>\n",
       "      <td>2.022420e-19</td>\n",
       "    </tr>\n",
       "    <tr>\n",
       "      <th>10</th>\n",
       "      <td>-0.002521</td>\n",
       "      <td>-0.004476</td>\n",
       "      <td>3.079784e-19</td>\n",
       "    </tr>\n",
       "    <tr>\n",
       "      <th>11</th>\n",
       "      <td>-0.002522</td>\n",
       "      <td>-0.004478</td>\n",
       "      <td>2.609510e-19</td>\n",
       "    </tr>\n",
       "    <tr>\n",
       "      <th>12</th>\n",
       "      <td>-0.001764</td>\n",
       "      <td>-0.001289</td>\n",
       "      <td>1.197055e-19</td>\n",
       "    </tr>\n",
       "    <tr>\n",
       "      <th>13</th>\n",
       "      <td>-0.001663</td>\n",
       "      <td>-0.000867</td>\n",
       "      <td>4.541941e-20</td>\n",
       "    </tr>\n",
       "    <tr>\n",
       "      <th>14</th>\n",
       "      <td>-0.002522</td>\n",
       "      <td>-0.004481</td>\n",
       "      <td>3.230422e-19</td>\n",
       "    </tr>\n",
       "    <tr>\n",
       "      <th>15</th>\n",
       "      <td>-0.002526</td>\n",
       "      <td>-0.004497</td>\n",
       "      <td>5.884159e-19</td>\n",
       "    </tr>\n",
       "    <tr>\n",
       "      <th>16</th>\n",
       "      <td>-0.002527</td>\n",
       "      <td>-0.004499</td>\n",
       "      <td>2.506885e-19</td>\n",
       "    </tr>\n",
       "    <tr>\n",
       "      <th>17</th>\n",
       "      <td>-0.002526</td>\n",
       "      <td>-0.004495</td>\n",
       "      <td>4.745589e-19</td>\n",
       "    </tr>\n",
       "    <tr>\n",
       "      <th>18</th>\n",
       "      <td>-0.002527</td>\n",
       "      <td>-0.004499</td>\n",
       "      <td>2.506885e-19</td>\n",
       "    </tr>\n",
       "    <tr>\n",
       "      <th>19</th>\n",
       "      <td>-0.002526</td>\n",
       "      <td>-0.004498</td>\n",
       "      <td>3.936693e-19</td>\n",
       "    </tr>\n",
       "    <tr>\n",
       "      <th>20</th>\n",
       "      <td>-0.000831</td>\n",
       "      <td>0.002634</td>\n",
       "      <td>-2.539386e-19</td>\n",
       "    </tr>\n",
       "    <tr>\n",
       "      <th>21</th>\n",
       "      <td>-0.002527</td>\n",
       "      <td>-0.004499</td>\n",
       "      <td>2.506885e-19</td>\n",
       "    </tr>\n",
       "    <tr>\n",
       "      <th>22</th>\n",
       "      <td>-0.002448</td>\n",
       "      <td>-0.004168</td>\n",
       "      <td>3.026916e-19</td>\n",
       "    </tr>\n",
       "    <tr>\n",
       "      <th>23</th>\n",
       "      <td>0.000647</td>\n",
       "      <td>-0.005016</td>\n",
       "      <td>5.770058e-19</td>\n",
       "    </tr>\n",
       "    <tr>\n",
       "      <th>24</th>\n",
       "      <td>-0.001595</td>\n",
       "      <td>-0.000973</td>\n",
       "      <td>1.426792e-19</td>\n",
       "    </tr>\n",
       "    <tr>\n",
       "      <th>25</th>\n",
       "      <td>-0.002315</td>\n",
       "      <td>-0.003654</td>\n",
       "      <td>2.040083e-19</td>\n",
       "    </tr>\n",
       "    <tr>\n",
       "      <th>26</th>\n",
       "      <td>-0.002526</td>\n",
       "      <td>-0.004498</td>\n",
       "      <td>3.936693e-19</td>\n",
       "    </tr>\n",
       "    <tr>\n",
       "      <th>27</th>\n",
       "      <td>-0.002527</td>\n",
       "      <td>-0.004499</td>\n",
       "      <td>2.506885e-19</td>\n",
       "    </tr>\n",
       "    <tr>\n",
       "      <th>28</th>\n",
       "      <td>-0.002526</td>\n",
       "      <td>-0.004498</td>\n",
       "      <td>3.391100e-19</td>\n",
       "    </tr>\n",
       "    <tr>\n",
       "      <th>29</th>\n",
       "      <td>-0.002358</td>\n",
       "      <td>-0.003803</td>\n",
       "      <td>1.586994e-19</td>\n",
       "    </tr>\n",
       "    <tr>\n",
       "      <th>...</th>\n",
       "      <td>...</td>\n",
       "      <td>...</td>\n",
       "      <td>...</td>\n",
       "    </tr>\n",
       "    <tr>\n",
       "      <th>4303</th>\n",
       "      <td>-0.002520</td>\n",
       "      <td>-0.004470</td>\n",
       "      <td>3.606390e-19</td>\n",
       "    </tr>\n",
       "    <tr>\n",
       "      <th>4304</th>\n",
       "      <td>-0.002527</td>\n",
       "      <td>-0.004499</td>\n",
       "      <td>3.767382e-19</td>\n",
       "    </tr>\n",
       "    <tr>\n",
       "      <th>4305</th>\n",
       "      <td>-0.002431</td>\n",
       "      <td>-0.004097</td>\n",
       "      <td>3.963963e-19</td>\n",
       "    </tr>\n",
       "    <tr>\n",
       "      <th>4306</th>\n",
       "      <td>-0.002438</td>\n",
       "      <td>-0.004520</td>\n",
       "      <td>2.506885e-19</td>\n",
       "    </tr>\n",
       "    <tr>\n",
       "      <th>4307</th>\n",
       "      <td>-0.001741</td>\n",
       "      <td>-0.002943</td>\n",
       "      <td>2.737322e-19</td>\n",
       "    </tr>\n",
       "    <tr>\n",
       "      <th>4308</th>\n",
       "      <td>-0.002526</td>\n",
       "      <td>-0.004496</td>\n",
       "      <td>1.885973e-19</td>\n",
       "    </tr>\n",
       "    <tr>\n",
       "      <th>4309</th>\n",
       "      <td>-0.002386</td>\n",
       "      <td>-0.004532</td>\n",
       "      <td>2.506885e-19</td>\n",
       "    </tr>\n",
       "    <tr>\n",
       "      <th>4310</th>\n",
       "      <td>-0.002526</td>\n",
       "      <td>-0.004497</td>\n",
       "      <td>2.469226e-19</td>\n",
       "    </tr>\n",
       "    <tr>\n",
       "      <th>4311</th>\n",
       "      <td>-0.002520</td>\n",
       "      <td>-0.004472</td>\n",
       "      <td>4.227302e-19</td>\n",
       "    </tr>\n",
       "    <tr>\n",
       "      <th>4312</th>\n",
       "      <td>-0.002521</td>\n",
       "      <td>-0.004474</td>\n",
       "      <td>4.641243e-19</td>\n",
       "    </tr>\n",
       "    <tr>\n",
       "      <th>4313</th>\n",
       "      <td>-0.002520</td>\n",
       "      <td>-0.004471</td>\n",
       "      <td>4.904546e-19</td>\n",
       "    </tr>\n",
       "    <tr>\n",
       "      <th>4314</th>\n",
       "      <td>-0.002527</td>\n",
       "      <td>-0.004498</td>\n",
       "      <td>1.961292e-19</td>\n",
       "    </tr>\n",
       "    <tr>\n",
       "      <th>4315</th>\n",
       "      <td>0.004186</td>\n",
       "      <td>0.023620</td>\n",
       "      <td>-1.961519e-18</td>\n",
       "    </tr>\n",
       "    <tr>\n",
       "      <th>4316</th>\n",
       "      <td>-0.001482</td>\n",
       "      <td>-0.000103</td>\n",
       "      <td>3.263574e-20</td>\n",
       "    </tr>\n",
       "    <tr>\n",
       "      <th>4317</th>\n",
       "      <td>-0.002396</td>\n",
       "      <td>-0.003948</td>\n",
       "      <td>4.609466e-19</td>\n",
       "    </tr>\n",
       "    <tr>\n",
       "      <th>4318</th>\n",
       "      <td>-0.002527</td>\n",
       "      <td>-0.004499</td>\n",
       "      <td>2.506885e-19</td>\n",
       "    </tr>\n",
       "    <tr>\n",
       "      <th>4319</th>\n",
       "      <td>-0.001559</td>\n",
       "      <td>-0.000429</td>\n",
       "      <td>8.068034e-20</td>\n",
       "    </tr>\n",
       "    <tr>\n",
       "      <th>4320</th>\n",
       "      <td>-0.001351</td>\n",
       "      <td>0.000445</td>\n",
       "      <td>-7.421487e-21</td>\n",
       "    </tr>\n",
       "    <tr>\n",
       "      <th>4321</th>\n",
       "      <td>-0.002526</td>\n",
       "      <td>-0.004499</td>\n",
       "      <td>3.767382e-19</td>\n",
       "    </tr>\n",
       "    <tr>\n",
       "      <th>4322</th>\n",
       "      <td>-0.002395</td>\n",
       "      <td>-0.003948</td>\n",
       "      <td>4.609466e-19</td>\n",
       "    </tr>\n",
       "    <tr>\n",
       "      <th>4323</th>\n",
       "      <td>-0.002519</td>\n",
       "      <td>-0.004469</td>\n",
       "      <td>3.399419e-19</td>\n",
       "    </tr>\n",
       "    <tr>\n",
       "      <th>4324</th>\n",
       "      <td>-0.002461</td>\n",
       "      <td>-0.004223</td>\n",
       "      <td>3.830972e-19</td>\n",
       "    </tr>\n",
       "    <tr>\n",
       "      <th>4325</th>\n",
       "      <td>0.006549</td>\n",
       "      <td>0.033678</td>\n",
       "      <td>-2.010895e-18</td>\n",
       "    </tr>\n",
       "    <tr>\n",
       "      <th>4326</th>\n",
       "      <td>-0.002524</td>\n",
       "      <td>-0.004495</td>\n",
       "      <td>2.914393e-19</td>\n",
       "    </tr>\n",
       "    <tr>\n",
       "      <th>4327</th>\n",
       "      <td>-0.002396</td>\n",
       "      <td>-0.003949</td>\n",
       "      <td>4.270843e-19</td>\n",
       "    </tr>\n",
       "    <tr>\n",
       "      <th>4328</th>\n",
       "      <td>-0.002523</td>\n",
       "      <td>-0.004486</td>\n",
       "      <td>5.366187e-19</td>\n",
       "    </tr>\n",
       "    <tr>\n",
       "      <th>4329</th>\n",
       "      <td>-0.002527</td>\n",
       "      <td>-0.004499</td>\n",
       "      <td>2.506885e-19</td>\n",
       "    </tr>\n",
       "    <tr>\n",
       "      <th>4330</th>\n",
       "      <td>-0.002526</td>\n",
       "      <td>-0.004496</td>\n",
       "      <td>3.861374e-19</td>\n",
       "    </tr>\n",
       "    <tr>\n",
       "      <th>4331</th>\n",
       "      <td>-0.000595</td>\n",
       "      <td>0.003588</td>\n",
       "      <td>-3.621684e-19</td>\n",
       "    </tr>\n",
       "    <tr>\n",
       "      <th>4332</th>\n",
       "      <td>-0.002526</td>\n",
       "      <td>-0.004495</td>\n",
       "      <td>3.654403e-19</td>\n",
       "    </tr>\n",
       "  </tbody>\n",
       "</table>\n",
       "<p>4219 rows × 3 columns</p>\n",
       "</div>"
      ],
      "text/plain": [
       "             0         1             2\n",
       "0    -0.002527 -0.004499  2.506885e-19\n",
       "1     0.035329 -0.010496  9.398183e-20\n",
       "2    -0.002396 -0.003949  4.440155e-19\n",
       "3    -0.000425  0.003115 -1.584324e-19\n",
       "4    -0.000622 -0.004951  1.961292e-19\n",
       "5     0.009954 -0.005140  2.177764e-19\n",
       "6     0.000091 -0.003958  3.466423e-19\n",
       "7    -0.001932 -0.004058  4.609466e-19\n",
       "8    -0.002439 -0.004519  2.506885e-19\n",
       "9    -0.002004 -0.002299  2.022420e-19\n",
       "10   -0.002521 -0.004476  3.079784e-19\n",
       "11   -0.002522 -0.004478  2.609510e-19\n",
       "12   -0.001764 -0.001289  1.197055e-19\n",
       "13   -0.001663 -0.000867  4.541941e-20\n",
       "14   -0.002522 -0.004481  3.230422e-19\n",
       "15   -0.002526 -0.004497  5.884159e-19\n",
       "16   -0.002527 -0.004499  2.506885e-19\n",
       "17   -0.002526 -0.004495  4.745589e-19\n",
       "18   -0.002527 -0.004499  2.506885e-19\n",
       "19   -0.002526 -0.004498  3.936693e-19\n",
       "20   -0.000831  0.002634 -2.539386e-19\n",
       "21   -0.002527 -0.004499  2.506885e-19\n",
       "22   -0.002448 -0.004168  3.026916e-19\n",
       "23    0.000647 -0.005016  5.770058e-19\n",
       "24   -0.001595 -0.000973  1.426792e-19\n",
       "25   -0.002315 -0.003654  2.040083e-19\n",
       "26   -0.002526 -0.004498  3.936693e-19\n",
       "27   -0.002527 -0.004499  2.506885e-19\n",
       "28   -0.002526 -0.004498  3.391100e-19\n",
       "29   -0.002358 -0.003803  1.586994e-19\n",
       "...        ...       ...           ...\n",
       "4303 -0.002520 -0.004470  3.606390e-19\n",
       "4304 -0.002527 -0.004499  3.767382e-19\n",
       "4305 -0.002431 -0.004097  3.963963e-19\n",
       "4306 -0.002438 -0.004520  2.506885e-19\n",
       "4307 -0.001741 -0.002943  2.737322e-19\n",
       "4308 -0.002526 -0.004496  1.885973e-19\n",
       "4309 -0.002386 -0.004532  2.506885e-19\n",
       "4310 -0.002526 -0.004497  2.469226e-19\n",
       "4311 -0.002520 -0.004472  4.227302e-19\n",
       "4312 -0.002521 -0.004474  4.641243e-19\n",
       "4313 -0.002520 -0.004471  4.904546e-19\n",
       "4314 -0.002527 -0.004498  1.961292e-19\n",
       "4315  0.004186  0.023620 -1.961519e-18\n",
       "4316 -0.001482 -0.000103  3.263574e-20\n",
       "4317 -0.002396 -0.003948  4.609466e-19\n",
       "4318 -0.002527 -0.004499  2.506885e-19\n",
       "4319 -0.001559 -0.000429  8.068034e-20\n",
       "4320 -0.001351  0.000445 -7.421487e-21\n",
       "4321 -0.002526 -0.004499  3.767382e-19\n",
       "4322 -0.002395 -0.003948  4.609466e-19\n",
       "4323 -0.002519 -0.004469  3.399419e-19\n",
       "4324 -0.002461 -0.004223  3.830972e-19\n",
       "4325  0.006549  0.033678 -2.010895e-18\n",
       "4326 -0.002524 -0.004495  2.914393e-19\n",
       "4327 -0.002396 -0.003949  4.270843e-19\n",
       "4328 -0.002523 -0.004486  5.366187e-19\n",
       "4329 -0.002527 -0.004499  2.506885e-19\n",
       "4330 -0.002526 -0.004496  3.861374e-19\n",
       "4331 -0.000595  0.003588 -3.621684e-19\n",
       "4332 -0.002526 -0.004495  3.654403e-19\n",
       "\n",
       "[4219 rows x 3 columns]"
      ]
     },
     "execution_count": 55,
     "metadata": {},
     "output_type": "execute_result"
    }
   ],
   "source": [
    "pca_data_noutliers"
   ]
  },
  {
   "cell_type": "code",
   "execution_count": 161,
   "metadata": {},
   "outputs": [],
   "source": [
    "rows = pca_data_noutliers.values.tolist()"
   ]
  },
  {
   "cell_type": "code",
   "execution_count": 166,
   "metadata": {},
   "outputs": [],
   "source": [
    "import tensorflow as tf\n",
    "from matplotlib import pyplot as plt\n",
    "from tensorflow.keras.layers import Dense\n",
    "import numpy as np\n",
    "\n",
    "model = tf.keras.models.Sequential()\n",
    "model.add(Dense(128,  activation='relu', input_shape=(3,)))\n",
    "model.add(Dense(64,  activation='relu'))\n",
    "model.add(Dense(2,    activation='linear', name=\"bottleneck\"))\n",
    "model.add(Dense(64,  activation='relu'))\n",
    "model.add(Dense(128,  activation='relu'))\n",
    "model.add(Dense(4219,  activation='linear'))\n",
    "model.compile(loss='mean_squared_error', optimizer = 'adam',metrics=['binary_accuracy'])"
   ]
  },
  {
   "cell_type": "code",
   "execution_count": 167,
   "metadata": {},
   "outputs": [],
   "source": [
    "X = np.array(rows)"
   ]
  },
  {
   "cell_type": "code",
   "execution_count": 168,
   "metadata": {},
   "outputs": [
    {
     "name": "stdout",
     "output_type": "stream",
     "text": [
      "4219/4219 [==============================] - 0s 109us/sample - loss: 0.2194 - binary_accuracy: 0.7457\n"
     ]
    },
    {
     "data": {
      "text/plain": [
       "<tensorflow.python.keras.callbacks.History at 0x7f8c0012bd30>"
      ]
     },
     "execution_count": 168,
     "metadata": {},
     "output_type": "execute_result"
    }
   ],
   "source": [
    "model.fit(X, y_kmeans)"
   ]
  },
  {
   "cell_type": "code",
   "execution_count": 169,
   "metadata": {},
   "outputs": [
    {
     "name": "stdout",
     "output_type": "stream",
     "text": [
      "Model: \"sequential_20\"\n",
      "_________________________________________________________________\n",
      "Layer (type)                 Output Shape              Param #   \n",
      "=================================================================\n",
      "dense_71 (Dense)             (None, 128)               512       \n",
      "_________________________________________________________________\n",
      "dense_72 (Dense)             (None, 64)                8256      \n",
      "_________________________________________________________________\n",
      "bottleneck (Dense)           (None, 2)                 130       \n",
      "_________________________________________________________________\n",
      "dense_73 (Dense)             (None, 64)                192       \n",
      "_________________________________________________________________\n",
      "dense_74 (Dense)             (None, 128)               8320      \n",
      "_________________________________________________________________\n",
      "dense_75 (Dense)             (None, 4219)              544251    \n",
      "=================================================================\n",
      "Total params: 561,661\n",
      "Trainable params: 561,661\n",
      "Non-trainable params: 0\n",
      "_________________________________________________________________\n"
     ]
    }
   ],
   "source": [
    "model.summary()"
   ]
  },
  {
   "cell_type": "code",
   "execution_count": 170,
   "metadata": {},
   "outputs": [],
   "source": [
    "from keras.callbacks import History \n",
    "history = History()"
   ]
  },
  {
   "cell_type": "code",
   "execution_count": 171,
   "metadata": {},
   "outputs": [
    {
     "ename": "ValueError",
     "evalue": "A target array with shape (4219, 1) was passed for an output of shape (None, 4219) while using as loss `mean_squared_error`. This loss expects targets to have the same shape as the output.",
     "output_type": "error",
     "traceback": [
      "\u001b[0;31m---------------------------------------------------------------------------\u001b[0m",
      "\u001b[0;31mValueError\u001b[0m                                Traceback (most recent call last)",
      "\u001b[0;32m<ipython-input-171-1f228e8d8886>\u001b[0m in \u001b[0;36m<module>\u001b[0;34m()\u001b[0m\n\u001b[0;32m----> 1\u001b[0;31m \u001b[0mmodel\u001b[0m\u001b[0;34m.\u001b[0m\u001b[0mfit\u001b[0m\u001b[0;34m(\u001b[0m\u001b[0mX\u001b[0m\u001b[0;34m,\u001b[0m \u001b[0mkmeans\u001b[0m\u001b[0;34m.\u001b[0m\u001b[0mlabels_\u001b[0m\u001b[0;34m,\u001b[0m \u001b[0mepochs\u001b[0m\u001b[0;34m=\u001b[0m\u001b[0;36m5\u001b[0m\u001b[0;34m,\u001b[0m \u001b[0mbatch_size\u001b[0m\u001b[0;34m=\u001b[0m\u001b[0;36m16\u001b[0m\u001b[0;34m,\u001b[0m \u001b[0mcallbacks\u001b[0m\u001b[0;34m=\u001b[0m\u001b[0;34m[\u001b[0m\u001b[0mhistory\u001b[0m\u001b[0;34m]\u001b[0m\u001b[0;34m)\u001b[0m\u001b[0;34m\u001b[0m\u001b[0m\n\u001b[0m",
      "\u001b[0;32m~/anaconda3/envs/amazonei_tensorflow_p36/lib/python3.6/site-packages/tensorflow/python/keras/engine/training.py\u001b[0m in \u001b[0;36mfit\u001b[0;34m(self, x, y, batch_size, epochs, verbose, callbacks, validation_split, validation_data, shuffle, class_weight, sample_weight, initial_epoch, steps_per_epoch, validation_steps, validation_freq, max_queue_size, workers, use_multiprocessing, **kwargs)\u001b[0m\n\u001b[1;32m    707\u001b[0m         \u001b[0msteps\u001b[0m\u001b[0;34m=\u001b[0m\u001b[0msteps_per_epoch\u001b[0m\u001b[0;34m,\u001b[0m\u001b[0;34m\u001b[0m\u001b[0m\n\u001b[1;32m    708\u001b[0m         \u001b[0mvalidation_split\u001b[0m\u001b[0;34m=\u001b[0m\u001b[0mvalidation_split\u001b[0m\u001b[0;34m,\u001b[0m\u001b[0;34m\u001b[0m\u001b[0m\n\u001b[0;32m--> 709\u001b[0;31m         shuffle=shuffle)\n\u001b[0m\u001b[1;32m    710\u001b[0m \u001b[0;34m\u001b[0m\u001b[0m\n\u001b[1;32m    711\u001b[0m     \u001b[0;31m# Prepare validation data.\u001b[0m\u001b[0;34m\u001b[0m\u001b[0;34m\u001b[0m\u001b[0m\n",
      "\u001b[0;32m~/anaconda3/envs/amazonei_tensorflow_p36/lib/python3.6/site-packages/tensorflow/python/keras/engine/training.py\u001b[0m in \u001b[0;36m_standardize_user_data\u001b[0;34m(self, x, y, sample_weight, class_weight, batch_size, check_steps, steps_name, steps, validation_split, shuffle, extract_tensors_from_dataset)\u001b[0m\n\u001b[1;32m   2690\u001b[0m           \u001b[0;31m# Additional checks to avoid users mistakenly using improper loss fns.\u001b[0m\u001b[0;34m\u001b[0m\u001b[0;34m\u001b[0m\u001b[0m\n\u001b[1;32m   2691\u001b[0m           training_utils.check_loss_and_target_compatibility(\n\u001b[0;32m-> 2692\u001b[0;31m               y, self._feed_loss_fns, feed_output_shapes)\n\u001b[0m\u001b[1;32m   2693\u001b[0m \u001b[0;34m\u001b[0m\u001b[0m\n\u001b[1;32m   2694\u001b[0m       \u001b[0;31m# If sample weight mode has not been set and weights are None for all the\u001b[0m\u001b[0;34m\u001b[0m\u001b[0;34m\u001b[0m\u001b[0m\n",
      "\u001b[0;32m~/anaconda3/envs/amazonei_tensorflow_p36/lib/python3.6/site-packages/tensorflow/python/keras/engine/training_utils.py\u001b[0m in \u001b[0;36mcheck_loss_and_target_compatibility\u001b[0;34m(targets, loss_fns, output_shapes)\u001b[0m\n\u001b[1;32m    547\u001b[0m           raise ValueError('A target array with shape ' + str(y.shape) +\n\u001b[1;32m    548\u001b[0m                            \u001b[0;34m' was passed for an output of shape '\u001b[0m \u001b[0;34m+\u001b[0m \u001b[0mstr\u001b[0m\u001b[0;34m(\u001b[0m\u001b[0mshape\u001b[0m\u001b[0;34m)\u001b[0m \u001b[0;34m+\u001b[0m\u001b[0;34m\u001b[0m\u001b[0m\n\u001b[0;32m--> 549\u001b[0;31m                            \u001b[0;34m' while using as loss `'\u001b[0m \u001b[0;34m+\u001b[0m \u001b[0mloss_name\u001b[0m \u001b[0;34m+\u001b[0m \u001b[0;34m'`. '\u001b[0m\u001b[0;34m\u001b[0m\u001b[0m\n\u001b[0m\u001b[1;32m    550\u001b[0m                            \u001b[0;34m'This loss expects targets to have the same shape '\u001b[0m\u001b[0;34m\u001b[0m\u001b[0m\n\u001b[1;32m    551\u001b[0m                            'as the output.')\n",
      "\u001b[0;31mValueError\u001b[0m: A target array with shape (4219, 1) was passed for an output of shape (None, 4219) while using as loss `mean_squared_error`. This loss expects targets to have the same shape as the output."
     ]
    }
   ],
   "source": [
    "model.fit(X, kmeans.labels_, epochs=5, batch_size=16, callbacks=[history])"
   ]
  },
  {
   "cell_type": "code",
   "execution_count": 172,
   "metadata": {},
   "outputs": [],
   "source": [
    "from sklearn.cluster import KMeans\n",
    "kmeans = KMeans(n_clusters=4)\n",
    "kmeans.fit(pca_data_noutliers)\n",
    "y_kmeans = kmeans.predict(pca_data_noutliers)\n",
    "y_kmeans = y_kmeans.resize(1,4219)"
   ]
  },
  {
   "cell_type": "code",
   "execution_count": 173,
   "metadata": {},
   "outputs": [
    {
     "name": "stdout",
     "output_type": "stream",
     "text": [
      "Epoch 1/5\n",
      "4219/4219 [==============================] - 1s 122us/sample - loss: 4.8640e-07 - binary_accuracy: 1.0000\n",
      "Epoch 2/5\n",
      "4219/4219 [==============================] - 1s 120us/sample - loss: 1.3034e-07 - binary_accuracy: 1.0000\n",
      "Epoch 3/5\n",
      "4219/4219 [==============================] - 1s 120us/sample - loss: 6.2455e-08 - binary_accuracy: 1.0000\n",
      "Epoch 4/5\n",
      "4219/4219 [==============================] - 1s 120us/sample - loss: 2.6617e-08 - binary_accuracy: 1.0000\n",
      "Epoch 5/5\n",
      "4219/4219 [==============================] - 1s 120us/sample - loss: 8.9684e-09 - binary_accuracy: 1.0000\n"
     ]
    },
    {
     "data": {
      "text/plain": [
       "<tensorflow.python.keras.callbacks.History at 0x7f8be1b2c0b8>"
      ]
     },
     "execution_count": 173,
     "metadata": {},
     "output_type": "execute_result"
    }
   ],
   "source": [
    "model.fit(X, y_kmeans, epochs=5, batch_size=16, callbacks=[history])"
   ]
  },
  {
   "cell_type": "code",
   "execution_count": 175,
   "metadata": {},
   "outputs": [],
   "source": [
    "#history = model.fit(X, y_kmeans, validation_split=0.1, epochs=10, batch_size=200)"
   ]
  },
  {
   "cell_type": "code",
   "execution_count": 176,
   "metadata": {},
   "outputs": [
    {
     "data": {
      "text/plain": [
       "Text(0.5, 0, 'epoch')"
      ]
     },
     "execution_count": 176,
     "metadata": {},
     "output_type": "execute_result"
    },
    {
     "data": {
      "image/png": "[encoded data removed]",
      "text/plain": [
       "<Figure size 432x288 with 1 Axes>"
      ]
     },
     "metadata": {},
     "output_type": "display_data"
    }
   ],
   "source": [
    "plt.plot(history.history['loss'])\n",
    "#plt.plot(history.history['val_loss'])\n",
    "plt.legend(['loss', 'val_loss'])\n",
    "plt.title('Loss')\n",
    "plt.xlabel('epoch')"
   ]
  },
  {
   "cell_type": "code",
   "execution_count": 178,
   "metadata": {},
   "outputs": [
    {
     "data": {
      "text/plain": [
       "Text(0.5, 0, 'epoch')"
      ]
     },
     "execution_count": 178,
     "metadata": {},
     "output_type": "execute_result"
    },
    {
     "data": {
      "image/png": "[encoded data removed]",
      "text/plain": [
       "<Figure size 432x288 with 1 Axes>"
      ]
     },
     "metadata": {},
     "output_type": "display_data"
    }
   ],
   "source": [
    "#acc = history.history['accuracy']\n",
    "#val_acc = history.history['val_binary_accuracy']\n",
    "\n",
    "plt.plot(history.history['binary_accuracy'])\n",
    "#plt.plot(history.history[val_acc])\n",
    "plt.legend(['acc', 'val_acc'])\n",
    "plt.title('Accuracy')\n",
    "plt.xlabel('epoch')"
   ]
  },
  {
   "cell_type": "code",
   "execution_count": null,
   "metadata": {},
   "outputs": [],
   "source": []
  }
 ],
 "metadata": {
  "kernelspec": {
   "display_name": "conda_amazonei_tensorflow_p36",
   "language": "python",
   "name": "conda_amazonei_tensorflow_p36"
  },
  "language_info": {
   "codemirror_mode": {
    "name": "ipython",
    "version": 3
   },
   "file_extension": ".py",
   "mimetype": "text/x-python",
   "name": "python",
   "nbconvert_exporter": "python",
   "pygments_lexer": "ipython3",
   "version": "3.6.5"
  }
 },
 "nbformat": 4,
 "nbformat_minor": 4
}
