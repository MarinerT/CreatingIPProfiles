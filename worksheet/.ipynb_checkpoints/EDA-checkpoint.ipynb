{
 "cells": [
  {
   "cell_type": "code",
   "execution_count": 1,
   "metadata": {},
   "outputs": [],
   "source": [
    "#import packages\n",
    "import pandas as pd\n",
    "import numpy as np\n",
    "import matplotlib.pyplot as plt\n",
    "import os\n",
    "from scipy import stats\n",
    "import statsmodels.api as sm\n",
    "from sklearn.metrics import accuracy_score\n",
    "import seaborn as sns\n",
    "\n",
    "%matplotlib inline"
   ]
  },
  {
   "cell_type": "code",
   "execution_count": 5,
   "metadata": {},
   "outputs": [],
   "source": [
    "from scripts.cleaner import logFile"
   ]
  },
  {
   "cell_type": "code",
   "execution_count": 6,
   "metadata": {},
   "outputs": [],
   "source": [
    "file = '~/SageMaker/CreatingIPProfiles/log20101010.csv'"
   ]
  },
  {
   "cell_type": "code",
   "execution_count": 7,
   "metadata": {},
   "outputs": [],
   "source": [
    "log = logFile(file)"
   ]
  },
  {
   "cell_type": "code",
   "execution_count": 8,
   "metadata": {},
   "outputs": [],
   "source": [
    "df = log.extract()"
   ]
  },
  {
   "cell_type": "code",
   "execution_count": 11,
   "metadata": {},
   "outputs": [],
   "source": [
    "df1 = log.transformer(df)"
   ]
  },
  {
   "cell_type": "code",
   "execution_count": 12,
   "metadata": {},
   "outputs": [
    {
     "data": {
      "text/html": [
       "<div>\n",
       "<style scoped>\n",
       "    .dataframe tbody tr th:only-of-type {\n",
       "        vertical-align: middle;\n",
       "    }\n",
       "\n",
       "    .dataframe tbody tr th {\n",
       "        vertical-align: top;\n",
       "    }\n",
       "\n",
       "    .dataframe thead th {\n",
       "        text-align: right;\n",
       "    }\n",
       "</style>\n",
       "<table border=\"1\" class=\"dataframe\">\n",
       "  <thead>\n",
       "    <tr style=\"text-align: right;\">\n",
       "      <th></th>\n",
       "      <th>ip</th>\n",
       "      <th>date</th>\n",
       "      <th>time</th>\n",
       "      <th>accession</th>\n",
       "      <th>datetime</th>\n",
       "      <th>ip_ccount</th>\n",
       "      <th>doc_ccount</th>\n",
       "      <th>ip_total_count</th>\n",
       "      <th>doc_total_count</th>\n",
       "    </tr>\n",
       "    <tr>\n",
       "      <th>datetime</th>\n",
       "      <th></th>\n",
       "      <th></th>\n",
       "      <th></th>\n",
       "      <th></th>\n",
       "      <th></th>\n",
       "      <th></th>\n",
       "      <th></th>\n",
       "      <th></th>\n",
       "      <th></th>\n",
       "    </tr>\n",
       "  </thead>\n",
       "  <tbody>\n",
       "    <tr>\n",
       "      <th>2010-10-10</th>\n",
       "      <td>108.5.109.gch</td>\n",
       "      <td>2010-10-10</td>\n",
       "      <td>00:00:00</td>\n",
       "      <td>0000950137-01-501552</td>\n",
       "      <td>2010-10-10</td>\n",
       "      <td>1</td>\n",
       "      <td>1</td>\n",
       "      <td>32</td>\n",
       "      <td>2</td>\n",
       "    </tr>\n",
       "    <tr>\n",
       "      <th>2010-10-10</th>\n",
       "      <td>108.5.109.gch</td>\n",
       "      <td>2010-10-10</td>\n",
       "      <td>00:00:00</td>\n",
       "      <td>0000950137-01-503045</td>\n",
       "      <td>2010-10-10</td>\n",
       "      <td>1</td>\n",
       "      <td>1</td>\n",
       "      <td>32</td>\n",
       "      <td>1</td>\n",
       "    </tr>\n",
       "    <tr>\n",
       "      <th>2010-10-10</th>\n",
       "      <td>108.5.109.gch</td>\n",
       "      <td>2010-10-10</td>\n",
       "      <td>00:00:00</td>\n",
       "      <td>0000950137-01-501552</td>\n",
       "      <td>2010-10-10</td>\n",
       "      <td>2</td>\n",
       "      <td>2</td>\n",
       "      <td>32</td>\n",
       "      <td>2</td>\n",
       "    </tr>\n",
       "    <tr>\n",
       "      <th>2010-10-10</th>\n",
       "      <td>209.223.222.jdd</td>\n",
       "      <td>2010-10-10</td>\n",
       "      <td>00:00:00</td>\n",
       "      <td>0001209191-10-049878</td>\n",
       "      <td>2010-10-10</td>\n",
       "      <td>1</td>\n",
       "      <td>1</td>\n",
       "      <td>22730</td>\n",
       "      <td>11341</td>\n",
       "    </tr>\n",
       "    <tr>\n",
       "      <th>2010-10-10</th>\n",
       "      <td>209.223.222.jdd</td>\n",
       "      <td>2010-10-10</td>\n",
       "      <td>00:00:00</td>\n",
       "      <td>0001144204-10-053151</td>\n",
       "      <td>2010-10-10</td>\n",
       "      <td>1</td>\n",
       "      <td>1</td>\n",
       "      <td>22730</td>\n",
       "      <td>11383</td>\n",
       "    </tr>\n",
       "  </tbody>\n",
       "</table>\n",
       "</div>"
      ],
      "text/plain": [
       "                         ip        date      time             accession  \\\n",
       "datetime                                                                  \n",
       "2010-10-10    108.5.109.gch  2010-10-10  00:00:00  0000950137-01-501552   \n",
       "2010-10-10    108.5.109.gch  2010-10-10  00:00:00  0000950137-01-503045   \n",
       "2010-10-10    108.5.109.gch  2010-10-10  00:00:00  0000950137-01-501552   \n",
       "2010-10-10  209.223.222.jdd  2010-10-10  00:00:00  0001209191-10-049878   \n",
       "2010-10-10  209.223.222.jdd  2010-10-10  00:00:00  0001144204-10-053151   \n",
       "\n",
       "             datetime  ip_ccount  doc_ccount  ip_total_count  doc_total_count  \n",
       "datetime                                                                       \n",
       "2010-10-10 2010-10-10          1           1              32                2  \n",
       "2010-10-10 2010-10-10          1           1              32                1  \n",
       "2010-10-10 2010-10-10          2           2              32                2  \n",
       "2010-10-10 2010-10-10          1           1           22730            11341  \n",
       "2010-10-10 2010-10-10          1           1           22730            11383  "
      ]
     },
     "execution_count": 12,
     "metadata": {},
     "output_type": "execute_result"
    }
   ],
   "source": [
    "df1.head()"
   ]
  },
  {
   "cell_type": "code",
   "execution_count": 20,
   "metadata": {},
   "outputs": [],
   "source": [
    "def filterer(df, iphitsmax=200, iphitsmin=5, dochitsmax=200, dochitsmin=30):\n",
    "    return df.query('@iphitsmax > ip_total_count > @iphitsmin and @dochitsmax > doc_total_count > @dochitsmin').drop(['date', 'time', 'datetime', 'ip_ccount', 'doc_ccount'],axis=1)"
   ]
  },
  {
   "cell_type": "code",
   "execution_count": 23,
   "metadata": {},
   "outputs": [],
   "source": [
    "df_filtered = filterer(df1)"
   ]
  },
  {
   "cell_type": "code",
   "execution_count": 22,
   "metadata": {},
   "outputs": [
    {
     "data": {
      "text/html": [
       "<div>\n",
       "<style scoped>\n",
       "    .dataframe tbody tr th:only-of-type {\n",
       "        vertical-align: middle;\n",
       "    }\n",
       "\n",
       "    .dataframe tbody tr th {\n",
       "        vertical-align: top;\n",
       "    }\n",
       "\n",
       "    .dataframe thead th {\n",
       "        text-align: right;\n",
       "    }\n",
       "</style>\n",
       "<table border=\"1\" class=\"dataframe\">\n",
       "  <thead>\n",
       "    <tr style=\"text-align: right;\">\n",
       "      <th></th>\n",
       "      <th>ip</th>\n",
       "      <th>accession</th>\n",
       "      <th>ip_total_count</th>\n",
       "      <th>doc_total_count</th>\n",
       "    </tr>\n",
       "    <tr>\n",
       "      <th>datetime</th>\n",
       "      <th></th>\n",
       "      <th></th>\n",
       "      <th></th>\n",
       "      <th></th>\n",
       "    </tr>\n",
       "  </thead>\n",
       "  <tbody>\n",
       "    <tr>\n",
       "      <th>2010-10-10 00:00:02</th>\n",
       "      <td>199.83.40.fhi</td>\n",
       "      <td>0000950144-07-008797</td>\n",
       "      <td>194</td>\n",
       "      <td>132</td>\n",
       "    </tr>\n",
       "    <tr>\n",
       "      <th>2010-10-10 00:00:07</th>\n",
       "      <td>199.83.40.fhi</td>\n",
       "      <td>0001193125-07-168470</td>\n",
       "      <td>194</td>\n",
       "      <td>159</td>\n",
       "    </tr>\n",
       "    <tr>\n",
       "      <th>2010-10-10 00:00:08</th>\n",
       "      <td>66.150.31.jda</td>\n",
       "      <td>0001387131-10-000812</td>\n",
       "      <td>31</td>\n",
       "      <td>38</td>\n",
       "    </tr>\n",
       "    <tr>\n",
       "      <th>2010-10-10 00:00:08</th>\n",
       "      <td>66.150.31.jda</td>\n",
       "      <td>0001387131-10-000812</td>\n",
       "      <td>31</td>\n",
       "      <td>38</td>\n",
       "    </tr>\n",
       "    <tr>\n",
       "      <th>2010-10-10 00:00:09</th>\n",
       "      <td>66.150.31.jda</td>\n",
       "      <td>0000060849-10-000026</td>\n",
       "      <td>31</td>\n",
       "      <td>39</td>\n",
       "    </tr>\n",
       "  </tbody>\n",
       "</table>\n",
       "</div>"
      ],
      "text/plain": [
       "                                ip             accession  ip_total_count  \\\n",
       "datetime                                                                   \n",
       "2010-10-10 00:00:02  199.83.40.fhi  0000950144-07-008797             194   \n",
       "2010-10-10 00:00:07  199.83.40.fhi  0001193125-07-168470             194   \n",
       "2010-10-10 00:00:08  66.150.31.jda  0001387131-10-000812              31   \n",
       "2010-10-10 00:00:08  66.150.31.jda  0001387131-10-000812              31   \n",
       "2010-10-10 00:00:09  66.150.31.jda  0000060849-10-000026              31   \n",
       "\n",
       "                     doc_total_count  \n",
       "datetime                              \n",
       "2010-10-10 00:00:02              132  \n",
       "2010-10-10 00:00:07              159  \n",
       "2010-10-10 00:00:08               38  \n",
       "2010-10-10 00:00:08               38  \n",
       "2010-10-10 00:00:09               39  "
      ]
     },
     "execution_count": 22,
     "metadata": {},
     "output_type": "execute_result"
    }
   ],
   "source": [
    "df_filtered.head()"
   ]
  },
  {
   "cell_type": "code",
   "execution_count": null,
   "metadata": {},
   "outputs": [],
   "source": [
    "df_original = df1"
   ]
  },
  {
   "cell_type": "code",
   "execution_count": 75,
   "metadata": {},
   "outputs": [],
   "source": [
    "def stats(df_original, df_filtered):\n",
    "    df_original = df_original.drop(['ip_ccount', 'doc_ccount'],axis=1)\n",
    "    print(df_original.describe())\n",
    "    print(df_filtered.describe())\n",
    "    unique_docs_original = len(list(df_original.accession.unique()))\n",
    "    unique_ips_original = len(list(df_original.ip.unique()))\n",
    "    unique_docs_filtered = len(list(df_filtered.accession.unique()))\n",
    "    unique_ips_filtered = len(list(df_filtered.ip.unique()))\n",
    "    print(\"\\nEvents: {}\\nSample Size: {}\\nPercent Reduction: {:2f}\"\n",
    "          .format(df_original.ip.count(), df_filtered.ip.count(), 1-(df_filtered.ip.count()/df_original.ip.count())))\n",
    "    print(\"Documents in Original: {}\\nDocuments in Sample: {}\\nPercent Reduction: {:2f}\"\n",
    "          .format(unique_docs_original, unique_docs_filtered, 1-(unique_docs_filtered/unique_docs_original)))\n",
    "    print(\"IPs in Original: {}\\nIPs in Sample: {}\\nPercent Reduction: {:2f}\"\n",
    "          .format(unique_ips_original, unique_ips_filtered, 1-(unique_ips_filtered/unique_ips_original)))"
   ]
  },
  {
   "cell_type": "code",
   "execution_count": 76,
   "metadata": {},
   "outputs": [
    {
     "name": "stdout",
     "output_type": "stream",
     "text": [
      "       ip_total_count  doc_total_count\n",
      "count    2.136342e+06     2.136342e+06\n",
      "mean     9.077406e+03     2.714216e+03\n",
      "std      1.038424e+04     5.246056e+03\n",
      "min      1.000000e+00     1.000000e+00\n",
      "25%      1.926000e+03     1.000000e+00\n",
      "50%      2.504000e+03     3.000000e+00\n",
      "75%      2.273000e+04     1.495000e+03\n",
      "max      2.539600e+04     2.539600e+04\n",
      "       ip_total_count  doc_total_count\n",
      "count    28663.000000     28663.000000\n",
      "mean        87.517148        75.279454\n",
      "std         57.664800        45.888203\n",
      "min          6.000000        31.000000\n",
      "25%         42.000000        40.000000\n",
      "50%         70.000000        57.000000\n",
      "75%        115.000000       100.500000\n",
      "max        196.000000       197.000000\n",
      "\n",
      "Events: 2136342\n",
      "Sample Size: 28663\n",
      "Percent Reduction: 0.986583\n",
      "Documents in Original: 959850\n",
      "Documents in Sample: 869\n",
      "Percent Reduction: 0.999095\n",
      "IPs in Original: 14277\n",
      "IPs in Sample: 3160\n",
      "Percent Reduction: 0.778665\n"
     ]
    }
   ],
   "source": [
    "stats(df_original, df_filtered)"
   ]
  },
  {
   "cell_type": "code",
   "execution_count": 58,
   "metadata": {},
   "outputs": [
    {
     "data": {
      "text/plain": [
       "Text(0, 0.5, 'Count of Unique IP Addresses')"
      ]
     },
     "execution_count": 58,
     "metadata": {},
     "output_type": "execute_result"
    },
    {
     "data": {
      "image/png": "[encoded data removed]",
      "text/plain": [
       "<Figure size 432x288 with 1 Axes>"
      ]
     },
     "metadata": {},
     "output_type": "display_data"
    }
   ],
   "source": [
    "#plot count for IPs\n",
    "\n",
    "plt.hist(df_original.ip_total_count)\n",
    "plt.title(\"IP Counts in Original\", fontsize=20)\n",
    "plt.xlabel(\"Unique IP Address Bins\")\n",
    "plt.ylabel(\"Count of Unique IP Addresses\")"
   ]
  },
  {
   "cell_type": "code",
   "execution_count": 60,
   "metadata": {},
   "outputs": [
    {
     "data": {
      "image/png": "[encoded data removed]",
      "text/plain": [
       "<Figure size 432x288 with 1 Axes>"
      ]
     },
     "metadata": {},
     "output_type": "display_data"
    }
   ],
   "source": [
    "plt.hist(df_filtered.ip_total_count, alpha=0.5, label='Sample')\n",
    "plt.title(\"IP Counts in Sample\", fontsize=20)\n",
    "plt.xlabel(\"Unique IP Address Bins\")\n",
    "plt.ylabel(\"Count of Unique IP Addresses\")\n",
    "plt.show()"
   ]
  },
  {
   "cell_type": "code",
   "execution_count": 62,
   "metadata": {},
   "outputs": [
    {
     "data": {
      "image/png": "[encoded data removed]",
      "text/plain": [
       "<Figure size 432x288 with 1 Axes>"
      ]
     },
     "metadata": {},
     "output_type": "display_data"
    }
   ],
   "source": [
    "plt.hist(df_original.doc_total_count, alpha=0.5)\n",
    "plt.title(\"Document Counts in Original\", fontsize=20)\n",
    "plt.xlabel(\"Unique Documents Address Bins\")\n",
    "plt.ylabel(\"Count of Unique Documents Addresses\")\n",
    "plt.show()"
   ]
  },
  {
   "cell_type": "code",
   "execution_count": 64,
   "metadata": {},
   "outputs": [
    {
     "data": {
      "image/png": "[encoded data removed]",
      "text/plain": [
       "<Figure size 432x288 with 1 Axes>"
      ]
     },
     "metadata": {},
     "output_type": "display_data"
    }
   ],
   "source": [
    "plt.hist(df_filtered.doc_total_count, alpha=0.5, label='Sample')\n",
    "plt.title(\"Document Counts in Sample\", fontsize=20)\n",
    "plt.xlabel(\"Unique Documents Address Bins\")\n",
    "plt.ylabel(\"Count of Unique Documents Addresses\")\n",
    "plt.show()"
   ]
  },
  {
   "cell_type": "code",
   "execution_count": 77,
   "metadata": {},
   "outputs": [],
   "source": [
    "def savetocsv(df, title):\n",
    "    df = df.drop(['doc_total_count','ip_total_count'],axis=1)\n",
    "    df.to_csv(title)"
   ]
  },
  {
   "cell_type": "code",
   "execution_count": 78,
   "metadata": {},
   "outputs": [],
   "source": [
    "savetocsv(df_filtered, 'df_filtered.csv')"
   ]
  },
  {
   "cell_type": "code",
   "execution_count": null,
   "metadata": {},
   "outputs": [],
   "source": []
  }
 ],
 "metadata": {
  "kernelspec": {
   "display_name": "conda_python3",
   "language": "python",
   "name": "conda_python3"
  },
  "language_info": {
   "codemirror_mode": {
    "name": "ipython",
    "version": 3
   },
   "file_extension": ".py",
   "mimetype": "text/x-python",
   "name": "python",
   "nbconvert_exporter": "python",
   "pygments_lexer": "ipython3",
   "version": "3.6.5"
  }
 },
 "nbformat": 4,
 "nbformat_minor": 4
}
