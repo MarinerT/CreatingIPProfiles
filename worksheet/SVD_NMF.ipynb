{
 "cells": [
  {
   "cell_type": "code",
   "execution_count": 4,
   "metadata": {},
   "outputs": [],
   "source": [
    "import pandas as pd\n",
    "import numpy as np"
   ]
  },
  {
   "cell_type": "code",
   "execution_count": 3,
   "metadata": {},
   "outputs": [],
   "source": [
    "csv = '~/SageMaker/CreatingIPProfiles/data/log20101010.csv'"
   ]
  },
  {
   "cell_type": "code",
   "execution_count": 4,
   "metadata": {},
   "outputs": [],
   "source": [
    "df = pd.read_csv(csv,usecols = ['ip','date','time','accession'])"
   ]
  },
  {
   "cell_type": "code",
   "execution_count": 5,
   "metadata": {},
   "outputs": [],
   "source": [
    "df['datetime'] = df['date'] + ' ' + df['time']\n",
    "df['datetime'] = pd.to_datetime(df['datetime'])"
   ]
  },
  {
   "cell_type": "code",
   "execution_count": 6,
   "metadata": {},
   "outputs": [],
   "source": [
    "df = df.set_index('datetime')"
   ]
  },
  {
   "cell_type": "code",
   "execution_count": 7,
   "metadata": {},
   "outputs": [],
   "source": [
    "df = df.drop(['date','time'],axis=1)"
   ]
  },
  {
   "cell_type": "code",
   "execution_count": 8,
   "metadata": {},
   "outputs": [
    {
     "data": {
      "text/html": [
       "<div>\n",
       "<style scoped>\n",
       "    .dataframe tbody tr th:only-of-type {\n",
       "        vertical-align: middle;\n",
       "    }\n",
       "\n",
       "    .dataframe tbody tr th {\n",
       "        vertical-align: top;\n",
       "    }\n",
       "\n",
       "    .dataframe thead th {\n",
       "        text-align: right;\n",
       "    }\n",
       "</style>\n",
       "<table border=\"1\" class=\"dataframe\">\n",
       "  <thead>\n",
       "    <tr style=\"text-align: right;\">\n",
       "      <th></th>\n",
       "      <th>ip</th>\n",
       "      <th>accession</th>\n",
       "    </tr>\n",
       "    <tr>\n",
       "      <th>datetime</th>\n",
       "      <th></th>\n",
       "      <th></th>\n",
       "    </tr>\n",
       "  </thead>\n",
       "  <tbody>\n",
       "    <tr>\n",
       "      <th>2010-10-10</th>\n",
       "      <td>108.5.109.gch</td>\n",
       "      <td>0000950137-01-501552</td>\n",
       "    </tr>\n",
       "    <tr>\n",
       "      <th>2010-10-10</th>\n",
       "      <td>108.5.109.gch</td>\n",
       "      <td>0000950137-01-503045</td>\n",
       "    </tr>\n",
       "    <tr>\n",
       "      <th>2010-10-10</th>\n",
       "      <td>108.5.109.gch</td>\n",
       "      <td>0000950137-01-501552</td>\n",
       "    </tr>\n",
       "    <tr>\n",
       "      <th>2010-10-10</th>\n",
       "      <td>209.223.222.jdd</td>\n",
       "      <td>0001209191-10-049878</td>\n",
       "    </tr>\n",
       "    <tr>\n",
       "      <th>2010-10-10</th>\n",
       "      <td>209.223.222.jdd</td>\n",
       "      <td>0001144204-10-053151</td>\n",
       "    </tr>\n",
       "  </tbody>\n",
       "</table>\n",
       "</div>"
      ],
      "text/plain": [
       "                         ip             accession\n",
       "datetime                                         \n",
       "2010-10-10    108.5.109.gch  0000950137-01-501552\n",
       "2010-10-10    108.5.109.gch  0000950137-01-503045\n",
       "2010-10-10    108.5.109.gch  0000950137-01-501552\n",
       "2010-10-10  209.223.222.jdd  0001209191-10-049878\n",
       "2010-10-10  209.223.222.jdd  0001144204-10-053151"
      ]
     },
     "execution_count": 8,
     "metadata": {},
     "output_type": "execute_result"
    }
   ],
   "source": [
    "df.head()"
   ]
  },
  {
   "cell_type": "code",
   "execution_count": 9,
   "metadata": {},
   "outputs": [],
   "source": [
    "topdocs = df.groupby('accession').size().nlargest(500)"
   ]
  },
  {
   "cell_type": "code",
   "execution_count": 10,
   "metadata": {},
   "outputs": [],
   "source": [
    "topdocs = topdocs.reset_index()"
   ]
  },
  {
   "cell_type": "code",
   "execution_count": 11,
   "metadata": {},
   "outputs": [],
   "source": [
    "dips = {k:g['accession'].tolist() for k,g in df.groupby('ip')}"
   ]
  },
  {
   "cell_type": "code",
   "execution_count": 12,
   "metadata": {},
   "outputs": [],
   "source": [
    "df_filtered = pd.merge(topdocs, df, how='left',on='accession')"
   ]
  },
  {
   "cell_type": "code",
   "execution_count": 13,
   "metadata": {},
   "outputs": [],
   "source": [
    "df_filtered['count'] = df_filtered.iloc[:,1]"
   ]
  },
  {
   "cell_type": "code",
   "execution_count": 14,
   "metadata": {},
   "outputs": [],
   "source": [
    "df_filtered = df_filtered.drop(0,axis=1)"
   ]
  },
  {
   "cell_type": "code",
   "execution_count": 15,
   "metadata": {},
   "outputs": [
    {
     "data": {
      "text/plain": [
       "1851"
      ]
     },
     "execution_count": 15,
     "metadata": {},
     "output_type": "execute_result"
    }
   ],
   "source": [
    "len(df_filtered.ip.unique())"
   ]
  },
  {
   "cell_type": "code",
   "execution_count": 16,
   "metadata": {},
   "outputs": [],
   "source": [
    "df1 = df_filtered.drop_duplicates()"
   ]
  },
  {
   "cell_type": "code",
   "execution_count": 17,
   "metadata": {},
   "outputs": [],
   "source": [
    "sparse_matrix = pd.crosstab(df1.ip, df1.accession)"
   ]
  },
  {
   "cell_type": "code",
   "execution_count": 19,
   "metadata": {},
   "outputs": [
    {
     "data": {
      "text/html": [
       "<div>\n",
       "<style scoped>\n",
       "    .dataframe tbody tr th:only-of-type {\n",
       "        vertical-align: middle;\n",
       "    }\n",
       "\n",
       "    .dataframe tbody tr th {\n",
       "        vertical-align: top;\n",
       "    }\n",
       "\n",
       "    .dataframe thead th {\n",
       "        text-align: right;\n",
       "    }\n",
       "</style>\n",
       "<table border=\"1\" class=\"dataframe\">\n",
       "  <thead>\n",
       "    <tr style=\"text-align: right;\">\n",
       "      <th>accession</th>\n",
       "      <th>0000000000-10-017697</th>\n",
       "      <th>0000004904-09-000040</th>\n",
       "      <th>0000004904-10-000018</th>\n",
       "      <th>0000018230-07-000272</th>\n",
       "      <th>0000018230-10-000092</th>\n",
       "      <th>0000039911-10-000061</th>\n",
       "      <th>0000039911-10-000062</th>\n",
       "      <th>0000040545-10-000010</th>\n",
       "      <th>0000060667-10-000159</th>\n",
       "      <th>0000066382-10-000010</th>\n",
       "      <th>...</th>\n",
       "      <th>0001503180-10-000003</th>\n",
       "      <th>0001503180-10-000004</th>\n",
       "      <th>0001503180-10-000005</th>\n",
       "      <th>0001503180-10-000006</th>\n",
       "      <th>0001503180-10-000007</th>\n",
       "      <th>0001503180-10-000008</th>\n",
       "      <th>0001503180-10-000009</th>\n",
       "      <th>0001503180-10-000010</th>\n",
       "      <th>0001503180-10-000011</th>\n",
       "      <th>9999999997-10-018298</th>\n",
       "    </tr>\n",
       "    <tr>\n",
       "      <th>ip</th>\n",
       "      <th></th>\n",
       "      <th></th>\n",
       "      <th></th>\n",
       "      <th></th>\n",
       "      <th></th>\n",
       "      <th></th>\n",
       "      <th></th>\n",
       "      <th></th>\n",
       "      <th></th>\n",
       "      <th></th>\n",
       "      <th></th>\n",
       "      <th></th>\n",
       "      <th></th>\n",
       "      <th></th>\n",
       "      <th></th>\n",
       "      <th></th>\n",
       "      <th></th>\n",
       "      <th></th>\n",
       "      <th></th>\n",
       "      <th></th>\n",
       "      <th></th>\n",
       "    </tr>\n",
       "  </thead>\n",
       "  <tbody>\n",
       "    <tr>\n",
       "      <th>1.23.215.eef</th>\n",
       "      <td>0</td>\n",
       "      <td>0</td>\n",
       "      <td>0</td>\n",
       "      <td>0</td>\n",
       "      <td>0</td>\n",
       "      <td>0</td>\n",
       "      <td>0</td>\n",
       "      <td>0</td>\n",
       "      <td>0</td>\n",
       "      <td>0</td>\n",
       "      <td>...</td>\n",
       "      <td>0</td>\n",
       "      <td>0</td>\n",
       "      <td>0</td>\n",
       "      <td>0</td>\n",
       "      <td>0</td>\n",
       "      <td>0</td>\n",
       "      <td>0</td>\n",
       "      <td>0</td>\n",
       "      <td>0</td>\n",
       "      <td>0</td>\n",
       "    </tr>\n",
       "    <tr>\n",
       "      <th>1.52.249.iji</th>\n",
       "      <td>0</td>\n",
       "      <td>0</td>\n",
       "      <td>0</td>\n",
       "      <td>0</td>\n",
       "      <td>0</td>\n",
       "      <td>0</td>\n",
       "      <td>0</td>\n",
       "      <td>0</td>\n",
       "      <td>0</td>\n",
       "      <td>0</td>\n",
       "      <td>...</td>\n",
       "      <td>0</td>\n",
       "      <td>0</td>\n",
       "      <td>0</td>\n",
       "      <td>0</td>\n",
       "      <td>0</td>\n",
       "      <td>0</td>\n",
       "      <td>0</td>\n",
       "      <td>0</td>\n",
       "      <td>0</td>\n",
       "      <td>0</td>\n",
       "    </tr>\n",
       "    <tr>\n",
       "      <th>108.11.131.ech</th>\n",
       "      <td>0</td>\n",
       "      <td>0</td>\n",
       "      <td>0</td>\n",
       "      <td>0</td>\n",
       "      <td>0</td>\n",
       "      <td>0</td>\n",
       "      <td>0</td>\n",
       "      <td>0</td>\n",
       "      <td>0</td>\n",
       "      <td>0</td>\n",
       "      <td>...</td>\n",
       "      <td>0</td>\n",
       "      <td>0</td>\n",
       "      <td>0</td>\n",
       "      <td>0</td>\n",
       "      <td>0</td>\n",
       "      <td>0</td>\n",
       "      <td>0</td>\n",
       "      <td>0</td>\n",
       "      <td>0</td>\n",
       "      <td>0</td>\n",
       "    </tr>\n",
       "    <tr>\n",
       "      <th>108.11.139.dcg</th>\n",
       "      <td>0</td>\n",
       "      <td>0</td>\n",
       "      <td>0</td>\n",
       "      <td>0</td>\n",
       "      <td>0</td>\n",
       "      <td>0</td>\n",
       "      <td>0</td>\n",
       "      <td>0</td>\n",
       "      <td>0</td>\n",
       "      <td>0</td>\n",
       "      <td>...</td>\n",
       "      <td>0</td>\n",
       "      <td>0</td>\n",
       "      <td>0</td>\n",
       "      <td>0</td>\n",
       "      <td>0</td>\n",
       "      <td>0</td>\n",
       "      <td>0</td>\n",
       "      <td>0</td>\n",
       "      <td>0</td>\n",
       "      <td>0</td>\n",
       "    </tr>\n",
       "    <tr>\n",
       "      <th>108.110.44.jig</th>\n",
       "      <td>0</td>\n",
       "      <td>0</td>\n",
       "      <td>0</td>\n",
       "      <td>0</td>\n",
       "      <td>0</td>\n",
       "      <td>0</td>\n",
       "      <td>0</td>\n",
       "      <td>0</td>\n",
       "      <td>0</td>\n",
       "      <td>0</td>\n",
       "      <td>...</td>\n",
       "      <td>0</td>\n",
       "      <td>0</td>\n",
       "      <td>0</td>\n",
       "      <td>0</td>\n",
       "      <td>0</td>\n",
       "      <td>0</td>\n",
       "      <td>0</td>\n",
       "      <td>0</td>\n",
       "      <td>0</td>\n",
       "      <td>0</td>\n",
       "    </tr>\n",
       "  </tbody>\n",
       "</table>\n",
       "<p>5 rows × 500 columns</p>\n",
       "</div>"
      ],
      "text/plain": [
       "accession       0000000000-10-017697  0000004904-09-000040  \\\n",
       "ip                                                           \n",
       "1.23.215.eef                       0                     0   \n",
       "1.52.249.iji                       0                     0   \n",
       "108.11.131.ech                     0                     0   \n",
       "108.11.139.dcg                     0                     0   \n",
       "108.110.44.jig                     0                     0   \n",
       "\n",
       "accession       0000004904-10-000018  0000018230-07-000272  \\\n",
       "ip                                                           \n",
       "1.23.215.eef                       0                     0   \n",
       "1.52.249.iji                       0                     0   \n",
       "108.11.131.ech                     0                     0   \n",
       "108.11.139.dcg                     0                     0   \n",
       "108.110.44.jig                     0                     0   \n",
       "\n",
       "accession       0000018230-10-000092  0000039911-10-000061  \\\n",
       "ip                                                           \n",
       "1.23.215.eef                       0                     0   \n",
       "1.52.249.iji                       0                     0   \n",
       "108.11.131.ech                     0                     0   \n",
       "108.11.139.dcg                     0                     0   \n",
       "108.110.44.jig                     0                     0   \n",
       "\n",
       "accession       0000039911-10-000062  0000040545-10-000010  \\\n",
       "ip                                                           \n",
       "1.23.215.eef                       0                     0   \n",
       "1.52.249.iji                       0                     0   \n",
       "108.11.131.ech                     0                     0   \n",
       "108.11.139.dcg                     0                     0   \n",
       "108.110.44.jig                     0                     0   \n",
       "\n",
       "accession       0000060667-10-000159  0000066382-10-000010  ...  \\\n",
       "ip                                                          ...   \n",
       "1.23.215.eef                       0                     0  ...   \n",
       "1.52.249.iji                       0                     0  ...   \n",
       "108.11.131.ech                     0                     0  ...   \n",
       "108.11.139.dcg                     0                     0  ...   \n",
       "108.110.44.jig                     0                     0  ...   \n",
       "\n",
       "accession       0001503180-10-000003  0001503180-10-000004  \\\n",
       "ip                                                           \n",
       "1.23.215.eef                       0                     0   \n",
       "1.52.249.iji                       0                     0   \n",
       "108.11.131.ech                     0                     0   \n",
       "108.11.139.dcg                     0                     0   \n",
       "108.110.44.jig                     0                     0   \n",
       "\n",
       "accession       0001503180-10-000005  0001503180-10-000006  \\\n",
       "ip                                                           \n",
       "1.23.215.eef                       0                     0   \n",
       "1.52.249.iji                       0                     0   \n",
       "108.11.131.ech                     0                     0   \n",
       "108.11.139.dcg                     0                     0   \n",
       "108.110.44.jig                     0                     0   \n",
       "\n",
       "accession       0001503180-10-000007  0001503180-10-000008  \\\n",
       "ip                                                           \n",
       "1.23.215.eef                       0                     0   \n",
       "1.52.249.iji                       0                     0   \n",
       "108.11.131.ech                     0                     0   \n",
       "108.11.139.dcg                     0                     0   \n",
       "108.110.44.jig                     0                     0   \n",
       "\n",
       "accession       0001503180-10-000009  0001503180-10-000010  \\\n",
       "ip                                                           \n",
       "1.23.215.eef                       0                     0   \n",
       "1.52.249.iji                       0                     0   \n",
       "108.11.131.ech                     0                     0   \n",
       "108.11.139.dcg                     0                     0   \n",
       "108.110.44.jig                     0                     0   \n",
       "\n",
       "accession       0001503180-10-000011  9999999997-10-018298  \n",
       "ip                                                          \n",
       "1.23.215.eef                       0                     0  \n",
       "1.52.249.iji                       0                     0  \n",
       "108.11.131.ech                     0                     0  \n",
       "108.11.139.dcg                     0                     0  \n",
       "108.110.44.jig                     0                     0  \n",
       "\n",
       "[5 rows x 500 columns]"
      ]
     },
     "execution_count": 19,
     "metadata": {},
     "output_type": "execute_result"
    }
   ],
   "source": [
    "sparse_matrix.head()"
   ]
  },
  {
   "cell_type": "code",
   "execution_count": 20,
   "metadata": {},
   "outputs": [],
   "source": [
    "def sparsity_of_matrix(mat):\n",
    "    return (sum(np.sum(mat)))/(np.dot(mat.shape[0], mat.shape[1]))"
   ]
  },
  {
   "cell_type": "code",
   "execution_count": 21,
   "metadata": {},
   "outputs": [
    {
     "data": {
      "text/plain": [
       "0.009967585089141005"
      ]
     },
     "execution_count": 21,
     "metadata": {},
     "output_type": "execute_result"
    }
   ],
   "source": [
    "sparsity_of_matrix(sparse_matrix)"
   ]
  },
  {
   "cell_type": "markdown",
   "metadata": {},
   "source": [
    "## Cosine Similarity Between IP Addresses"
   ]
  },
  {
   "cell_type": "code",
   "execution_count": 22,
   "metadata": {},
   "outputs": [],
   "source": [
    "import numpy as np\n",
    "import pandas as pd\n",
    "from scipy.spatial.distance import squareform\n",
    "from scipy.spatial.distance import pdist\n",
    "import matplotlib.pyplot as plt\n",
    "\n",
    "%matplotlib inline\n",
    "\n",
    "\n",
    "def distance_matrix(df,metric):\n",
    "    # create our pairwise distance matrix\n",
    "    pairwise = pd.DataFrame(squareform(pdist(df, metric=metric)),\n",
    "                            columns = df.index,index = df.index)\n",
    "\n",
    "    # move to long form\n",
    "    long_form = pairwise.unstack()\n",
    "\n",
    "    # rename columns and turn into a dataframe\n",
    "    long_form.index.rename(['ip', 'toIp'], inplace=True)\n",
    "    return long_form.to_frame('distance metric').reset_index()\n",
    "\n",
    "def count_metric_variations(matrix):\n",
    "    df = pd.DataFrame(matrix)\n",
    "    d_cosines = {}\n",
    "    for cosine in df['distance metric']:\n",
    "        if cosine in d_cosines:\n",
    "            d_cosines[cosine]+=1\n",
    "        else:\n",
    "            d_cosines[cosine] = 1\n",
    "    return d_cosines\n",
    "\n",
    "def plot_distr_metric(dic):\n",
    "    keys = dic.keys()\n",
    "    vals = dic.values()\n",
    "\n",
    "    plt.scatter(keys, np.divide(list(vals), sum(vals)), label=\"Real distribution\")\n",
    "\n",
    "    plt.ylim(0,1)\n",
    "    plt.ylabel ('Percentage')\n",
    "    plt.xlabel ('Significant number')\n",
    "    plt.xticks(np.arange(0, 1, step=0.2))\n",
    "    plt.title(\"Normalized Distribution of Cosine Similarities\")\n",
    "    plt.show()"
   ]
  },
  {
   "cell_type": "code",
   "execution_count": 23,
   "metadata": {},
   "outputs": [],
   "source": [
    "testing = distance_matrix(sparse_matrix,'cosine')"
   ]
  },
  {
   "cell_type": "code",
   "execution_count": 24,
   "metadata": {},
   "outputs": [],
   "source": [
    "d_cosines = count_metric_variations(testing)"
   ]
  },
  {
   "cell_type": "markdown",
   "metadata": {},
   "source": [
    "## SVD User - Item Collaborative Filtering"
   ]
  },
  {
   "cell_type": "code",
   "execution_count": 25,
   "metadata": {},
   "outputs": [],
   "source": [
    "from scipy.linalg import svd\n",
    "from scipy.sparse.linalg import svds"
   ]
  },
  {
   "cell_type": "code",
   "execution_count": 26,
   "metadata": {},
   "outputs": [],
   "source": [
    "U,s,VT = svd(sparse_matrix)"
   ]
  },
  {
   "cell_type": "code",
   "execution_count": 27,
   "metadata": {},
   "outputs": [],
   "source": [
    "sigma = np.diag(s)"
   ]
  },
  {
   "cell_type": "code",
   "execution_count": 28,
   "metadata": {},
   "outputs": [
    {
     "name": "stdout",
     "output_type": "stream",
     "text": [
      "(1851, 1851) (500, 500) (500, 500)\n"
     ]
    }
   ],
   "source": [
    "print(U.shape, sigma.shape, VT.shape)"
   ]
  },
  {
   "cell_type": "code",
   "execution_count": 29,
   "metadata": {},
   "outputs": [
    {
     "data": {
      "text/html": [
       "<div>\n",
       "<style scoped>\n",
       "    .dataframe tbody tr th:only-of-type {\n",
       "        vertical-align: middle;\n",
       "    }\n",
       "\n",
       "    .dataframe tbody tr th {\n",
       "        vertical-align: top;\n",
       "    }\n",
       "\n",
       "    .dataframe thead th {\n",
       "        text-align: right;\n",
       "    }\n",
       "</style>\n",
       "<table border=\"1\" class=\"dataframe\">\n",
       "  <thead>\n",
       "    <tr style=\"text-align: right;\">\n",
       "      <th>accession</th>\n",
       "      <th>0000000000-10-017697</th>\n",
       "      <th>0000004904-09-000040</th>\n",
       "      <th>0000004904-10-000018</th>\n",
       "      <th>0000018230-07-000272</th>\n",
       "      <th>0000018230-10-000092</th>\n",
       "      <th>0000039911-10-000061</th>\n",
       "      <th>0000039911-10-000062</th>\n",
       "      <th>0000040545-10-000010</th>\n",
       "      <th>0000060667-10-000159</th>\n",
       "      <th>0000066382-10-000010</th>\n",
       "      <th>...</th>\n",
       "      <th>0001503180-10-000003</th>\n",
       "      <th>0001503180-10-000004</th>\n",
       "      <th>0001503180-10-000005</th>\n",
       "      <th>0001503180-10-000006</th>\n",
       "      <th>0001503180-10-000007</th>\n",
       "      <th>0001503180-10-000008</th>\n",
       "      <th>0001503180-10-000009</th>\n",
       "      <th>0001503180-10-000010</th>\n",
       "      <th>0001503180-10-000011</th>\n",
       "      <th>9999999997-10-018298</th>\n",
       "    </tr>\n",
       "    <tr>\n",
       "      <th>ip</th>\n",
       "      <th></th>\n",
       "      <th></th>\n",
       "      <th></th>\n",
       "      <th></th>\n",
       "      <th></th>\n",
       "      <th></th>\n",
       "      <th></th>\n",
       "      <th></th>\n",
       "      <th></th>\n",
       "      <th></th>\n",
       "      <th></th>\n",
       "      <th></th>\n",
       "      <th></th>\n",
       "      <th></th>\n",
       "      <th></th>\n",
       "      <th></th>\n",
       "      <th></th>\n",
       "      <th></th>\n",
       "      <th></th>\n",
       "      <th></th>\n",
       "      <th></th>\n",
       "    </tr>\n",
       "  </thead>\n",
       "  <tbody>\n",
       "    <tr>\n",
       "      <th>1.23.215.eef</th>\n",
       "      <td>0</td>\n",
       "      <td>0</td>\n",
       "      <td>0</td>\n",
       "      <td>0</td>\n",
       "      <td>0</td>\n",
       "      <td>0</td>\n",
       "      <td>0</td>\n",
       "      <td>0</td>\n",
       "      <td>0</td>\n",
       "      <td>0</td>\n",
       "      <td>...</td>\n",
       "      <td>0</td>\n",
       "      <td>0</td>\n",
       "      <td>0</td>\n",
       "      <td>0</td>\n",
       "      <td>0</td>\n",
       "      <td>0</td>\n",
       "      <td>0</td>\n",
       "      <td>0</td>\n",
       "      <td>0</td>\n",
       "      <td>0</td>\n",
       "    </tr>\n",
       "    <tr>\n",
       "      <th>1.52.249.iji</th>\n",
       "      <td>0</td>\n",
       "      <td>0</td>\n",
       "      <td>0</td>\n",
       "      <td>0</td>\n",
       "      <td>0</td>\n",
       "      <td>0</td>\n",
       "      <td>0</td>\n",
       "      <td>0</td>\n",
       "      <td>0</td>\n",
       "      <td>0</td>\n",
       "      <td>...</td>\n",
       "      <td>0</td>\n",
       "      <td>0</td>\n",
       "      <td>0</td>\n",
       "      <td>0</td>\n",
       "      <td>0</td>\n",
       "      <td>0</td>\n",
       "      <td>0</td>\n",
       "      <td>0</td>\n",
       "      <td>0</td>\n",
       "      <td>0</td>\n",
       "    </tr>\n",
       "    <tr>\n",
       "      <th>108.11.131.ech</th>\n",
       "      <td>0</td>\n",
       "      <td>0</td>\n",
       "      <td>0</td>\n",
       "      <td>0</td>\n",
       "      <td>0</td>\n",
       "      <td>0</td>\n",
       "      <td>0</td>\n",
       "      <td>0</td>\n",
       "      <td>0</td>\n",
       "      <td>0</td>\n",
       "      <td>...</td>\n",
       "      <td>0</td>\n",
       "      <td>0</td>\n",
       "      <td>0</td>\n",
       "      <td>0</td>\n",
       "      <td>0</td>\n",
       "      <td>0</td>\n",
       "      <td>0</td>\n",
       "      <td>0</td>\n",
       "      <td>0</td>\n",
       "      <td>0</td>\n",
       "    </tr>\n",
       "    <tr>\n",
       "      <th>108.11.139.dcg</th>\n",
       "      <td>0</td>\n",
       "      <td>0</td>\n",
       "      <td>0</td>\n",
       "      <td>0</td>\n",
       "      <td>0</td>\n",
       "      <td>0</td>\n",
       "      <td>0</td>\n",
       "      <td>0</td>\n",
       "      <td>0</td>\n",
       "      <td>0</td>\n",
       "      <td>...</td>\n",
       "      <td>0</td>\n",
       "      <td>0</td>\n",
       "      <td>0</td>\n",
       "      <td>0</td>\n",
       "      <td>0</td>\n",
       "      <td>0</td>\n",
       "      <td>0</td>\n",
       "      <td>0</td>\n",
       "      <td>0</td>\n",
       "      <td>0</td>\n",
       "    </tr>\n",
       "    <tr>\n",
       "      <th>108.110.44.jig</th>\n",
       "      <td>0</td>\n",
       "      <td>0</td>\n",
       "      <td>0</td>\n",
       "      <td>0</td>\n",
       "      <td>0</td>\n",
       "      <td>0</td>\n",
       "      <td>0</td>\n",
       "      <td>0</td>\n",
       "      <td>0</td>\n",
       "      <td>0</td>\n",
       "      <td>...</td>\n",
       "      <td>0</td>\n",
       "      <td>0</td>\n",
       "      <td>0</td>\n",
       "      <td>0</td>\n",
       "      <td>0</td>\n",
       "      <td>0</td>\n",
       "      <td>0</td>\n",
       "      <td>0</td>\n",
       "      <td>0</td>\n",
       "      <td>0</td>\n",
       "    </tr>\n",
       "  </tbody>\n",
       "</table>\n",
       "<p>5 rows × 500 columns</p>\n",
       "</div>"
      ],
      "text/plain": [
       "accession       0000000000-10-017697  0000004904-09-000040  \\\n",
       "ip                                                           \n",
       "1.23.215.eef                       0                     0   \n",
       "1.52.249.iji                       0                     0   \n",
       "108.11.131.ech                     0                     0   \n",
       "108.11.139.dcg                     0                     0   \n",
       "108.110.44.jig                     0                     0   \n",
       "\n",
       "accession       0000004904-10-000018  0000018230-07-000272  \\\n",
       "ip                                                           \n",
       "1.23.215.eef                       0                     0   \n",
       "1.52.249.iji                       0                     0   \n",
       "108.11.131.ech                     0                     0   \n",
       "108.11.139.dcg                     0                     0   \n",
       "108.110.44.jig                     0                     0   \n",
       "\n",
       "accession       0000018230-10-000092  0000039911-10-000061  \\\n",
       "ip                                                           \n",
       "1.23.215.eef                       0                     0   \n",
       "1.52.249.iji                       0                     0   \n",
       "108.11.131.ech                     0                     0   \n",
       "108.11.139.dcg                     0                     0   \n",
       "108.110.44.jig                     0                     0   \n",
       "\n",
       "accession       0000039911-10-000062  0000040545-10-000010  \\\n",
       "ip                                                           \n",
       "1.23.215.eef                       0                     0   \n",
       "1.52.249.iji                       0                     0   \n",
       "108.11.131.ech                     0                     0   \n",
       "108.11.139.dcg                     0                     0   \n",
       "108.110.44.jig                     0                     0   \n",
       "\n",
       "accession       0000060667-10-000159  0000066382-10-000010  ...  \\\n",
       "ip                                                          ...   \n",
       "1.23.215.eef                       0                     0  ...   \n",
       "1.52.249.iji                       0                     0  ...   \n",
       "108.11.131.ech                     0                     0  ...   \n",
       "108.11.139.dcg                     0                     0  ...   \n",
       "108.110.44.jig                     0                     0  ...   \n",
       "\n",
       "accession       0001503180-10-000003  0001503180-10-000004  \\\n",
       "ip                                                           \n",
       "1.23.215.eef                       0                     0   \n",
       "1.52.249.iji                       0                     0   \n",
       "108.11.131.ech                     0                     0   \n",
       "108.11.139.dcg                     0                     0   \n",
       "108.110.44.jig                     0                     0   \n",
       "\n",
       "accession       0001503180-10-000005  0001503180-10-000006  \\\n",
       "ip                                                           \n",
       "1.23.215.eef                       0                     0   \n",
       "1.52.249.iji                       0                     0   \n",
       "108.11.131.ech                     0                     0   \n",
       "108.11.139.dcg                     0                     0   \n",
       "108.110.44.jig                     0                     0   \n",
       "\n",
       "accession       0001503180-10-000007  0001503180-10-000008  \\\n",
       "ip                                                           \n",
       "1.23.215.eef                       0                     0   \n",
       "1.52.249.iji                       0                     0   \n",
       "108.11.131.ech                     0                     0   \n",
       "108.11.139.dcg                     0                     0   \n",
       "108.110.44.jig                     0                     0   \n",
       "\n",
       "accession       0001503180-10-000009  0001503180-10-000010  \\\n",
       "ip                                                           \n",
       "1.23.215.eef                       0                     0   \n",
       "1.52.249.iji                       0                     0   \n",
       "108.11.131.ech                     0                     0   \n",
       "108.11.139.dcg                     0                     0   \n",
       "108.110.44.jig                     0                     0   \n",
       "\n",
       "accession       0001503180-10-000011  9999999997-10-018298  \n",
       "ip                                                          \n",
       "1.23.215.eef                       0                     0  \n",
       "1.52.249.iji                       0                     0  \n",
       "108.11.131.ech                     0                     0  \n",
       "108.11.139.dcg                     0                     0  \n",
       "108.110.44.jig                     0                     0  \n",
       "\n",
       "[5 rows x 500 columns]"
      ]
     },
     "execution_count": 29,
     "metadata": {},
     "output_type": "execute_result"
    }
   ],
   "source": [
    "sparse_matrix.head()"
   ]
  },
  {
   "cell_type": "code",
   "execution_count": 30,
   "metadata": {},
   "outputs": [
    {
     "ename": "NameError",
     "evalue": "name 'ips' is not defined",
     "output_type": "error",
     "traceback": [
      "\u001b[0;31m---------------------------------------------------------------------------\u001b[0m",
      "\u001b[0;31mNameError\u001b[0m                                 Traceback (most recent call last)",
      "\u001b[0;32m<ipython-input-30-96e10ecf2021>\u001b[0m in \u001b[0;36m<module>\u001b[0;34m()\u001b[0m\n\u001b[1;32m      7\u001b[0m \u001b[0mdocs_reconstructed\u001b[0m \u001b[0;34m=\u001b[0m \u001b[0mU\u001b[0m \u001b[0;34m@\u001b[0m \u001b[0msigma_reduced\u001b[0m \u001b[0;34m@\u001b[0m \u001b[0mVT\u001b[0m\u001b[0;34m\u001b[0m\u001b[0m\n\u001b[1;32m      8\u001b[0m \u001b[0;34m\u001b[0m\u001b[0m\n\u001b[0;32m----> 9\u001b[0;31m \u001b[0msparse_reconstructed_df\u001b[0m \u001b[0;34m=\u001b[0m \u001b[0mpd\u001b[0m\u001b[0;34m.\u001b[0m\u001b[0mDataFrame\u001b[0m\u001b[0;34m(\u001b[0m\u001b[0mdocs_reconstructed\u001b[0m\u001b[0;34m,\u001b[0m \u001b[0mindex\u001b[0m\u001b[0;34m=\u001b[0m\u001b[0mips\u001b[0m\u001b[0;34m,\u001b[0m \u001b[0mcolumns\u001b[0m\u001b[0;34m=\u001b[0m\u001b[0mdocs\u001b[0m\u001b[0;34m)\u001b[0m\u001b[0;34m\u001b[0m\u001b[0m\n\u001b[0m\u001b[1;32m     10\u001b[0m \u001b[0;31m#print(sparse_reconstructed_df.head())\u001b[0m\u001b[0;34m\u001b[0m\u001b[0;34m\u001b[0m\u001b[0m\n\u001b[1;32m     11\u001b[0m \u001b[0;31m#print(ratings_df)\u001b[0m\u001b[0;34m\u001b[0m\u001b[0;34m\u001b[0m\u001b[0m\n",
      "\u001b[0;31mNameError\u001b[0m: name 'ips' is not defined"
     ]
    }
   ],
   "source": [
    "# Zero out all but the first two singular values\n",
    "sigma_reduced = np.zeros(sparse_matrix.shape)\n",
    "np.fill_diagonal(sigma_reduced, sigma)\n",
    "sigma_reduced[:, 2:] = 0\n",
    "\n",
    "# Reoconstruct the ratings matrix\n",
    "docs_reconstructed = U @ sigma_reduced @ VT\n",
    "\n",
    "sparse_reconstructed_df = pd.DataFrame(docs_reconstructed, index=ips, columns=docs)\n",
    "#print(sparse_reconstructed_df.head())\n",
    "#print(ratings_df)\n"
   ]
  },
  {
   "cell_type": "markdown",
   "metadata": {},
   "source": [
    "### NMF Model"
   ]
  },
  {
   "cell_type": "code",
   "execution_count": 10,
   "metadata": {},
   "outputs": [],
   "source": [
    "from scipy.sparse.linalg import svds\n",
    "from sklearn.decomposition import NMF"
   ]
  },
  {
   "cell_type": "code",
   "execution_count": 242,
   "metadata": {},
   "outputs": [],
   "source": [
    "modelnmf = NMF(50)"
   ]
  },
  {
   "cell_type": "code",
   "execution_count": 243,
   "metadata": {},
   "outputs": [],
   "source": [
    "mat = modelnmf.fit_transform(sparse_matrix)"
   ]
  },
  {
   "cell_type": "code",
   "execution_count": 244,
   "metadata": {},
   "outputs": [],
   "source": [
    "H = modelnmf.components_"
   ]
  },
  {
   "cell_type": "code",
   "execution_count": 245,
   "metadata": {},
   "outputs": [
    {
     "data": {
      "text/plain": [
       "(50, 500)"
      ]
     },
     "execution_count": 245,
     "metadata": {},
     "output_type": "execute_result"
    }
   ],
   "source": [
    "H.shape"
   ]
  },
  {
   "cell_type": "code",
   "execution_count": 246,
   "metadata": {},
   "outputs": [],
   "source": [
    "W = mat@H"
   ]
  },
  {
   "cell_type": "code",
   "execution_count": 345,
   "metadata": {},
   "outputs": [],
   "source": [
    "labels = sparse_matrix.columns.to_list()\n",
    "ips = sparse_matrix.index.to_list()"
   ]
  },
  {
   "cell_type": "code",
   "execution_count": 77,
   "metadata": {},
   "outputs": [],
   "source": [
    "def build_NMF(df):\n",
    "    sparse_matrix = pd.crosstab(df.ip, df.accession)\n",
    "    model_nmf = NMF(n_components = 50\n",
    "               , init = 'random'\n",
    "               , random_state = 0)\n",
    "    m = model_nmf.fit_transform(sparse_matrix)\n",
    "    h = model_nmf.components_\n",
    "    nmf_matrix = m @ h\n",
    "    x_labels = list(sparse_matrix.index)\n",
    "    y_labels = list(sparse_matrix.columns)\n",
    "    reconsruct_err = modelnmf.reconstruction_err_\n",
    "  \n",
    "    return x_labels, y_labels, nmf_matrix\n",
    "\n",
    "# Top 5 most similar documents' indices recommended for document at index 0\n",
    "def top_10(idx):\n",
    "    top10 = nmf_matrix[idx].argsort()[-11:][::-1][1:]\n",
    "    return list(np.array(y_labels)[top10])\n",
    "\n",
    "def predictions_NMF(nmf_matrix):\n",
    "    d_predicted = {}\n",
    "    keys = [list(x_labels)[i] for i in range(nmf_matrix.shape[0])]\n",
    "    values = [top_10(i) for i in range(len(keys))]\n",
    "    return dict(zip(keys, values))\n",
    "\n",
    "#Classification Accuracy: Precision Score\n",
    "def score(df_test, d_predicted):\n",
    "    count = 0\n",
    "    test = {k:g['accession'].tolist() for k,g in df_test.groupby('ip')}\n",
    "    for ip,lst in test.items():\n",
    "        for doc in lst:\n",
    "            if doc in d_predicted[ip]:\n",
    "                count+=1\n",
    "             \n",
    "            #True Positive: We predicted Document in list, and it is\n",
    "            #True Negative: We predicted Document not in list, and it isn't.\n",
    "            #False Negative: We predicted document not in list, and it is\n",
    "            #False Positive: We predicted document in lst, but it isn't\n",
    "    size = df_test.shape[0]        \n",
    "    return abs((size-count) / size)"
   ]
  },
  {
   "cell_type": "code",
   "execution_count": 78,
   "metadata": {},
   "outputs": [],
   "source": [
    "df_train = pd.read_csv('training_log.csv')\n",
    "x_labels, y_labels, nmf_matrix = build_NMF(df_train)"
   ]
  },
  {
   "cell_type": "code",
   "execution_count": 79,
   "metadata": {},
   "outputs": [],
   "source": [
    "d_predicted = predictions_NMF(nmf_matrix)"
   ]
  },
  {
   "cell_type": "code",
   "execution_count": 80,
   "metadata": {},
   "outputs": [],
   "source": [
    "df_test = pd.read_csv('testing_log.csv')"
   ]
  },
  {
   "cell_type": "code",
   "execution_count": 81,
   "metadata": {},
   "outputs": [
    {
     "data": {
      "text/plain": [
       "0.829810298102981"
      ]
     },
     "execution_count": 81,
     "metadata": {},
     "output_type": "execute_result"
    }
   ],
   "source": [
    "score(df_test, d_predicted)"
   ]
  }
 ],
 "metadata": {
  "kernelspec": {
   "display_name": "conda_python3",
   "language": "python",
   "name": "conda_python3"
  },
  "language_info": {
   "codemirror_mode": {
    "name": "ipython",
    "version": 3
   },
   "file_extension": ".py",
   "mimetype": "text/x-python",
   "name": "python",
   "nbconvert_exporter": "python",
   "pygments_lexer": "ipython3",
   "version": "3.6.5"
  }
 },
 "nbformat": 4,
 "nbformat_minor": 4
}
