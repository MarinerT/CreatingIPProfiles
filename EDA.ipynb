{
 "cells": [
  {
   "cell_type": "code",
   "execution_count": 1,
   "metadata": {},
   "outputs": [],
   "source": [
    "#import packages\n",
    "import pandas as pd\n",
    "import numpy as np\n",
    "import matplotlib.pyplot as plt\n",
    "import os\n",
    "from scipy import stats\n",
    "import statsmodels.api as sm\n",
    "from sklearn.metrics import accuracy_score\n",
    "import seaborn as sns\n",
    "\n",
    "%matplotlib inline"
   ]
  },
  {
   "cell_type": "code",
   "execution_count": 2,
   "metadata": {},
   "outputs": [],
   "source": [
    "from scripts.cleaner import logFile"
   ]
  },
  {
   "cell_type": "code",
   "execution_count": 3,
   "metadata": {},
   "outputs": [],
   "source": [
    "file = '~/SageMaker/CreatingIPProfiles/log20101010.csv'"
   ]
  },
  {
   "cell_type": "code",
   "execution_count": 4,
   "metadata": {},
   "outputs": [],
   "source": [
    "log = logFile(file)"
   ]
  },
  {
   "cell_type": "code",
   "execution_count": 5,
   "metadata": {},
   "outputs": [],
   "source": [
    "df = log.extract()"
   ]
  },
  {
   "cell_type": "code",
   "execution_count": 6,
   "metadata": {},
   "outputs": [],
   "source": [
    "df1 = log.transformer(df)"
   ]
  },
  {
   "cell_type": "code",
   "execution_count": 9,
   "metadata": {},
   "outputs": [
    {
     "data": {
      "text/html": [
       "<div>\n",
       "<style scoped>\n",
       "    .dataframe tbody tr th:only-of-type {\n",
       "        vertical-align: middle;\n",
       "    }\n",
       "\n",
       "    .dataframe tbody tr th {\n",
       "        vertical-align: top;\n",
       "    }\n",
       "\n",
       "    .dataframe thead th {\n",
       "        text-align: right;\n",
       "    }\n",
       "</style>\n",
       "<table border=\"1\" class=\"dataframe\">\n",
       "  <thead>\n",
       "    <tr style=\"text-align: right;\">\n",
       "      <th></th>\n",
       "      <th>ip</th>\n",
       "      <th>date</th>\n",
       "      <th>time</th>\n",
       "      <th>accession</th>\n",
       "      <th>datetime</th>\n",
       "    </tr>\n",
       "    <tr>\n",
       "      <th>datetime</th>\n",
       "      <th></th>\n",
       "      <th></th>\n",
       "      <th></th>\n",
       "      <th></th>\n",
       "      <th></th>\n",
       "    </tr>\n",
       "  </thead>\n",
       "  <tbody>\n",
       "    <tr>\n",
       "      <th>2010-10-10</th>\n",
       "      <td>108.5.109.gch</td>\n",
       "      <td>2010-10-10</td>\n",
       "      <td>00:00:00</td>\n",
       "      <td>0000950137-01-501552</td>\n",
       "      <td>2010-10-10</td>\n",
       "    </tr>\n",
       "    <tr>\n",
       "      <th>2010-10-10</th>\n",
       "      <td>108.5.109.gch</td>\n",
       "      <td>2010-10-10</td>\n",
       "      <td>00:00:00</td>\n",
       "      <td>0000950137-01-503045</td>\n",
       "      <td>2010-10-10</td>\n",
       "    </tr>\n",
       "    <tr>\n",
       "      <th>2010-10-10</th>\n",
       "      <td>108.5.109.gch</td>\n",
       "      <td>2010-10-10</td>\n",
       "      <td>00:00:00</td>\n",
       "      <td>0000950137-01-501552</td>\n",
       "      <td>2010-10-10</td>\n",
       "    </tr>\n",
       "    <tr>\n",
       "      <th>2010-10-10</th>\n",
       "      <td>209.223.222.jdd</td>\n",
       "      <td>2010-10-10</td>\n",
       "      <td>00:00:00</td>\n",
       "      <td>0001209191-10-049878</td>\n",
       "      <td>2010-10-10</td>\n",
       "    </tr>\n",
       "    <tr>\n",
       "      <th>2010-10-10</th>\n",
       "      <td>209.223.222.jdd</td>\n",
       "      <td>2010-10-10</td>\n",
       "      <td>00:00:00</td>\n",
       "      <td>0001144204-10-053151</td>\n",
       "      <td>2010-10-10</td>\n",
       "    </tr>\n",
       "  </tbody>\n",
       "</table>\n",
       "</div>"
      ],
      "text/plain": [
       "                         ip        date      time             accession  \\\n",
       "datetime                                                                  \n",
       "2010-10-10    108.5.109.gch  2010-10-10  00:00:00  0000950137-01-501552   \n",
       "2010-10-10    108.5.109.gch  2010-10-10  00:00:00  0000950137-01-503045   \n",
       "2010-10-10    108.5.109.gch  2010-10-10  00:00:00  0000950137-01-501552   \n",
       "2010-10-10  209.223.222.jdd  2010-10-10  00:00:00  0001209191-10-049878   \n",
       "2010-10-10  209.223.222.jdd  2010-10-10  00:00:00  0001144204-10-053151   \n",
       "\n",
       "             datetime  \n",
       "datetime               \n",
       "2010-10-10 2010-10-10  \n",
       "2010-10-10 2010-10-10  \n",
       "2010-10-10 2010-10-10  \n",
       "2010-10-10 2010-10-10  \n",
       "2010-10-10 2010-10-10  "
      ]
     },
     "execution_count": 9,
     "metadata": {},
     "output_type": "execute_result"
    }
   ],
   "source": []
  },
  {
   "cell_type": "code",
   "execution_count": 37,
   "metadata": {},
   "outputs": [],
   "source": [
    "def filterer(df, iphitsmax=200, iphitsmin=30, dochitsmax=180, dochitsmin=35):\n",
    "    #cumulative counts\n",
    "    df['ip_ccount'] = df.groupby(df.ip).cumcount()+1\n",
    "    df['doc_ccount'] = df.groupby(df.accession).cumcount()+1\n",
    "    #total counts\n",
    "    df['ip_total_count'] = df.groupby(df.ip, sort=False)['ip_ccount'].transform(max)\n",
    "    df['doc_total_count'] = df.groupby(df.ip, sort=False)['doc_ccount'].transform(max)\n",
    "    df = df.query('@iphitsmax > ip_total_count > @iphitsmin') \n",
    "    return df.query('@dochitsmax > doc_total_count > @dochitsmin')"
   ]
  },
  {
   "cell_type": "code",
   "execution_count": 38,
   "metadata": {},
   "outputs": [],
   "source": [
    "df_filtered = filterer(df1)"
   ]
  },
  {
   "cell_type": "code",
   "execution_count": 39,
   "metadata": {},
   "outputs": [
    {
     "data": {
      "text/html": [
       "<div>\n",
       "<style scoped>\n",
       "    .dataframe tbody tr th:only-of-type {\n",
       "        vertical-align: middle;\n",
       "    }\n",
       "\n",
       "    .dataframe tbody tr th {\n",
       "        vertical-align: top;\n",
       "    }\n",
       "\n",
       "    .dataframe thead th {\n",
       "        text-align: right;\n",
       "    }\n",
       "</style>\n",
       "<table border=\"1\" class=\"dataframe\">\n",
       "  <thead>\n",
       "    <tr style=\"text-align: right;\">\n",
       "      <th></th>\n",
       "      <th>ip</th>\n",
       "      <th>date</th>\n",
       "      <th>time</th>\n",
       "      <th>accession</th>\n",
       "      <th>datetime</th>\n",
       "      <th>ip_ccount</th>\n",
       "      <th>doc_ccount</th>\n",
       "      <th>ip_total_count</th>\n",
       "      <th>doc_total_count</th>\n",
       "    </tr>\n",
       "    <tr>\n",
       "      <th>datetime</th>\n",
       "      <th></th>\n",
       "      <th></th>\n",
       "      <th></th>\n",
       "      <th></th>\n",
       "      <th></th>\n",
       "      <th></th>\n",
       "      <th></th>\n",
       "      <th></th>\n",
       "      <th></th>\n",
       "    </tr>\n",
       "  </thead>\n",
       "  <tbody>\n",
       "    <tr>\n",
       "      <th>2010-10-10 00:02:06</th>\n",
       "      <td>151.191.175.eaj</td>\n",
       "      <td>2010-10-10</td>\n",
       "      <td>00:02:06</td>\n",
       "      <td>0001045769-10-000006</td>\n",
       "      <td>2010-10-10 00:02:06</td>\n",
       "      <td>1</td>\n",
       "      <td>1</td>\n",
       "      <td>142</td>\n",
       "      <td>100</td>\n",
       "    </tr>\n",
       "    <tr>\n",
       "      <th>2010-10-10 00:02:44</th>\n",
       "      <td>207.38.172.jde</td>\n",
       "      <td>2010-10-10</td>\n",
       "      <td>00:02:44</td>\n",
       "      <td>0000950123-09-064496</td>\n",
       "      <td>2010-10-10 00:02:44</td>\n",
       "      <td>1</td>\n",
       "      <td>1</td>\n",
       "      <td>145</td>\n",
       "      <td>48</td>\n",
       "    </tr>\n",
       "    <tr>\n",
       "      <th>2010-10-10 00:02:49</th>\n",
       "      <td>207.38.172.jde</td>\n",
       "      <td>2010-10-10</td>\n",
       "      <td>00:02:49</td>\n",
       "      <td>0000892569-09-000610</td>\n",
       "      <td>2010-10-10 00:02:49</td>\n",
       "      <td>2</td>\n",
       "      <td>1</td>\n",
       "      <td>145</td>\n",
       "      <td>48</td>\n",
       "    </tr>\n",
       "    <tr>\n",
       "      <th>2010-10-10 00:02:51</th>\n",
       "      <td>207.38.172.jde</td>\n",
       "      <td>2010-10-10</td>\n",
       "      <td>00:02:51</td>\n",
       "      <td>0000892569-09-000610</td>\n",
       "      <td>2010-10-10 00:02:51</td>\n",
       "      <td>3</td>\n",
       "      <td>2</td>\n",
       "      <td>145</td>\n",
       "      <td>48</td>\n",
       "    </tr>\n",
       "    <tr>\n",
       "      <th>2010-10-10 00:05:09</th>\n",
       "      <td>63.118.180.aji</td>\n",
       "      <td>2010-10-10</td>\n",
       "      <td>00:05:09</td>\n",
       "      <td>0001047469-10-007200</td>\n",
       "      <td>2010-10-10 00:05:09</td>\n",
       "      <td>1</td>\n",
       "      <td>1</td>\n",
       "      <td>98</td>\n",
       "      <td>68</td>\n",
       "    </tr>\n",
       "  </tbody>\n",
       "</table>\n",
       "</div>"
      ],
      "text/plain": [
       "                                  ip        date      time  \\\n",
       "datetime                                                     \n",
       "2010-10-10 00:02:06  151.191.175.eaj  2010-10-10  00:02:06   \n",
       "2010-10-10 00:02:44   207.38.172.jde  2010-10-10  00:02:44   \n",
       "2010-10-10 00:02:49   207.38.172.jde  2010-10-10  00:02:49   \n",
       "2010-10-10 00:02:51   207.38.172.jde  2010-10-10  00:02:51   \n",
       "2010-10-10 00:05:09   63.118.180.aji  2010-10-10  00:05:09   \n",
       "\n",
       "                                accession            datetime  ip_ccount  \\\n",
       "datetime                                                                   \n",
       "2010-10-10 00:02:06  0001045769-10-000006 2010-10-10 00:02:06          1   \n",
       "2010-10-10 00:02:44  0000950123-09-064496 2010-10-10 00:02:44          1   \n",
       "2010-10-10 00:02:49  0000892569-09-000610 2010-10-10 00:02:49          2   \n",
       "2010-10-10 00:02:51  0000892569-09-000610 2010-10-10 00:02:51          3   \n",
       "2010-10-10 00:05:09  0001047469-10-007200 2010-10-10 00:05:09          1   \n",
       "\n",
       "                     doc_ccount  ip_total_count  doc_total_count  \n",
       "datetime                                                          \n",
       "2010-10-10 00:02:06           1             142              100  \n",
       "2010-10-10 00:02:44           1             145               48  \n",
       "2010-10-10 00:02:49           1             145               48  \n",
       "2010-10-10 00:02:51           2             145               48  \n",
       "2010-10-10 00:05:09           1              98               68  "
      ]
     },
     "execution_count": 39,
     "metadata": {},
     "output_type": "execute_result"
    }
   ],
   "source": [
    "df_filtered.head()"
   ]
  },
  {
   "cell_type": "code",
   "execution_count": 40,
   "metadata": {},
   "outputs": [],
   "source": [
    "df_original = df1"
   ]
  },
  {
   "cell_type": "code",
   "execution_count": 41,
   "metadata": {},
   "outputs": [],
   "source": [
    "def stats(df_original, df_filtered):\n",
    "    df_original = df_original.drop(['ip_ccount', 'doc_ccount'],axis=1)\n",
    "    print(df_original.describe())\n",
    "    print(df_filtered.describe())\n",
    "    unique_docs_original = len(list(df_original.accession.unique()))\n",
    "    unique_ips_original = len(list(df_original.ip.unique()))\n",
    "    unique_docs_filtered = len(list(df_filtered.accession.unique()))\n",
    "    unique_ips_filtered = len(list(df_filtered.ip.unique()))\n",
    "    print(\"\\nEvents: {}\\nSample Size: {}\\nPercent: {:2f}\"\n",
    "          .format(df_original.ip.count(), df_filtered.ip.count(), (df_filtered.ip.count()/df_original.ip.count())))\n",
    "    print(\"Documents in Original: {}\\nDocuments in Sample: {}\\nPercent: {:2f}\"\n",
    "          .format(unique_docs_original, unique_docs_filtered, (unique_docs_filtered/unique_docs_original)))\n",
    "    print(\"IPs in Original: {}\\nIPs in Sample: {}\\nPercent: {:2f}\"\n",
    "          .format(unique_ips_original, unique_ips_filtered, (unique_ips_filtered/unique_ips_original)))"
   ]
  },
  {
   "cell_type": "code",
   "execution_count": 42,
   "metadata": {},
   "outputs": [
    {
     "name": "stdout",
     "output_type": "stream",
     "text": [
      "       ip_total_count  doc_total_count\n",
      "count    2.136342e+06     2.136342e+06\n",
      "mean     3.226755e+05     9.077406e+03\n",
      "std      2.892350e+05     1.038424e+04\n",
      "min      1.000000e+00     1.000000e+00\n",
      "25%      3.381700e+04     1.926000e+03\n",
      "50%      4.221100e+05     2.504000e+03\n",
      "75%      6.861230e+05     2.273000e+04\n",
      "max      6.861230e+05     2.539600e+04\n",
      "          ip_ccount    doc_ccount  ip_total_count  doc_total_count\n",
      "count  16413.000000  16413.000000    16413.000000     16413.000000\n",
      "mean      45.809480     19.516846       90.618961        76.380674\n",
      "std       35.946154     28.487122       42.703089        35.377197\n",
      "min        1.000000      1.000000       31.000000        36.000000\n",
      "25%       18.000000      3.000000       55.000000        48.000000\n",
      "50%       36.000000      6.000000       81.000000        66.000000\n",
      "75%       65.000000     24.000000      125.000000        93.000000\n",
      "max      187.000000    179.000000      187.000000       179.000000\n",
      "\n",
      "Events: 2136342\n",
      "Sample Size: 16413\n",
      "Percent: 0.007683\n",
      "Documents in Original: 959850\n",
      "Documents in Sample: 4361\n",
      "Percent: 0.004543\n",
      "IPs in Original: 14277\n",
      "IPs in Sample: 231\n",
      "Percent: 0.016180\n"
     ]
    }
   ],
   "source": [
    "stats(df_original, df_filtered)"
   ]
  },
  {
   "cell_type": "code",
   "execution_count": 43,
   "metadata": {},
   "outputs": [
    {
     "data": {
      "text/plain": [
       "Text(0, 0.5, 'Count of Unique IP Addresses')"
      ]
     },
     "execution_count": 43,
     "metadata": {},
     "output_type": "execute_result"
    },
    {
     "data": {
      "image/png": "[encoded data removed]",
      "text/plain": [
       "<Figure size 432x288 with 1 Axes>"
      ]
     },
     "metadata": {},
     "output_type": "display_data"
    }
   ],
   "source": [
    "#plot count for IPs\n",
    "\n",
    "plt.hist(df_original.ip_total_count)\n",
    "plt.title(\"IP Counts in Original\", fontsize=20)\n",
    "plt.xlabel(\"Unique IP Address Bins\")\n",
    "plt.ylabel(\"Count of Unique IP Addresses\")"
   ]
  },
  {
   "cell_type": "code",
   "execution_count": 44,
   "metadata": {},
   "outputs": [
    {
     "data": {
      "image/png": "[encoded data removed]",
      "text/plain": [
       "<Figure size 432x288 with 1 Axes>"
      ]
     },
     "metadata": {},
     "output_type": "display_data"
    }
   ],
   "source": [
    "plt.hist(df_filtered.ip_total_count, alpha=0.5, label='Sample')\n",
    "plt.title(\"IP Counts in Sample\", fontsize=20)\n",
    "plt.xlabel(\"Unique IP Address Bins\")\n",
    "plt.ylabel(\"Count of Unique IP Addresses\")\n",
    "plt.show()"
   ]
  },
  {
   "cell_type": "code",
   "execution_count": 45,
   "metadata": {},
   "outputs": [
    {
     "data": {
      "image/png": "[encoded data removed]",
      "text/plain": [
       "<Figure size 432x288 with 1 Axes>"
      ]
     },
     "metadata": {},
     "output_type": "display_data"
    }
   ],
   "source": [
    "plt.hist(df_original.doc_total_count, alpha=0.5)\n",
    "plt.title(\"Document Counts in Original\", fontsize=20)\n",
    "plt.xlabel(\"Unique Documents Address Bins\")\n",
    "plt.ylabel(\"Count of Unique Documents Addresses\")\n",
    "plt.show()"
   ]
  },
  {
   "cell_type": "code",
   "execution_count": 46,
   "metadata": {},
   "outputs": [
    {
     "data": {
      "image/png": "[encoded data removed]",
      "text/plain": [
       "<Figure size 432x288 with 1 Axes>"
      ]
     },
     "metadata": {},
     "output_type": "display_data"
    }
   ],
   "source": [
    "plt.hist(df_filtered.doc_total_count, alpha=0.5, label='Sample')\n",
    "plt.title(\"Document Counts in Sample\", fontsize=20)\n",
    "plt.xlabel(\"Unique Documents Address Bins\")\n",
    "plt.ylabel(\"Count of Unique Documents Addresses\")\n",
    "plt.show()"
   ]
  },
  {
   "cell_type": "code",
   "execution_count": 47,
   "metadata": {},
   "outputs": [],
   "source": [
    "def savetocsv(df, title):\n",
    "    df = df.drop(['doc_total_count','ip_total_count'],axis=1)\n",
    "    df.to_csv(title)"
   ]
  },
  {
   "cell_type": "code",
   "execution_count": 48,
   "metadata": {},
   "outputs": [],
   "source": [
    "savetocsv(df_filtered, 'df_filtered.csv')"
   ]
  },
  {
   "cell_type": "code",
   "execution_count": null,
   "metadata": {},
   "outputs": [],
   "source": []
  }
 ],
 "metadata": {
  "kernelspec": {
   "display_name": "conda_python3",
   "language": "python",
   "name": "conda_python3"
  },
  "language_info": {
   "codemirror_mode": {
    "name": "ipython",
    "version": 3
   },
   "file_extension": ".py",
   "mimetype": "text/x-python",
   "name": "python",
   "nbconvert_exporter": "python",
   "pygments_lexer": "ipython3",
   "version": "3.6.5"
  }
 },
 "nbformat": 4,
 "nbformat_minor": 4
}
