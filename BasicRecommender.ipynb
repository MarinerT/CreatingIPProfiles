{
 "cells": [
  {
   "cell_type": "code",
   "execution_count": 1,
   "metadata": {},
   "outputs": [],
   "source": [
    "import numpy as np\n",
    "import pandas as pd"
   ]
  },
  {
   "cell_type": "code",
   "execution_count": 2,
   "metadata": {},
   "outputs": [],
   "source": [
    "from scripts.cleaner import logFile"
   ]
  },
  {
   "cell_type": "code",
   "execution_count": 8,
   "metadata": {},
   "outputs": [],
   "source": [
    "# %load scripts/eda.py\n",
    "#!/usr/bin/env/python3\n",
    "\n",
    "#import packages\n",
    "import pandas as pd\n",
    "import numpy as np\n",
    "import matplotlib.pyplot as plt\n",
    "import os\n",
    "from scipy import stats\n",
    "import statsmodels.api as sm\n",
    "from sklearn.metrics import accuracy_score\n",
    "import seaborn as sns\n",
    "from scripts.cleaner import logFile\n",
    "\n",
    "%matplotlib inline\n",
    "\n",
    "file = '~/SageMaker/CreatingIPProfiles/data/log20101010.csv'\n",
    "\n",
    "log = logFile(file)\n",
    "\n",
    "df = log.extract()\n",
    "\n",
    "df_original = log.transformer(df)\n",
    "\n",
    "def filterer(df, iphitsmax=200, iphitsmin=5, dochitsmax=200, dochitsmin=30):\n",
    "    return df.query('@iphitsmax > ip_total_count > @iphitsmin and @dochitsmax > doc_total_count > @dochitsmin').drop(['date', 'time', 'datetime', 'ip_ccount', 'doc_ccount'],axis=1)\n",
    "\n",
    "# df_filtered = filterer(df_original)\n",
    "\n",
    "# def stats(df_original, df_filtered):\n",
    "#     df_original = df_original.drop(['ip_ccount', 'doc_ccount'],axis=1)\n",
    "#     print(df_original.describe())\n",
    "#     print(df_filtered.describe())\n",
    "#     unique_docs_original = len(list(df_original.accession.unique()))\n",
    "#     unique_ips_original = len(list(df_original.ip.unique()))\n",
    "#     unique_docs_filtered = len(list(df_filtered.accession.unique()))\n",
    "#     unique_ips_filtered = len(list(df_filtered.ip.unique()))\n",
    "#     print(\"\\nEvents: {}\\nSample Size: {}\\nPercent Reduction: {:2f}\"\n",
    "#           .format(df_original.ip.count(), df_filtered.ip.count(), 1-(df_filtered.ip.count()/df_original.ip.count())))\n",
    "#     print(\"Documents in Original: {}\\nDocuments in Sample: {}\\nPercent Reduction: {:2f}\"\n",
    "#           .format(unique_docs_original, unique_docs_filtered, 1-(unique_docs_filtered/unique_docs_original)))\n",
    "#     print(\"IPs in Original: {}\\nIPs in Sample: {}\\nPercent Reduction: {:2f}\"\n",
    "#           .format(unique_ips_original, unique_ips_filtered, 1-(unique_ips_filtered/unique_ips_original)))\n",
    "\n",
    "# stats(df_original, df_filtered)\n",
    "\n",
    "# #plot count for IPs\n",
    "\n",
    "# plt.hist(df_original.ip_total_count)\n",
    "# plt.title(\"IP Counts in Original\", fontsize=20)\n",
    "# plt.xlabel(\"Unique IP Address Bins\")\n",
    "# plt.ylabel(\"Count of Unique IP Addresses\")\n",
    "\n",
    "# plt.hist(df_filtered.ip_total_count, alpha=0.5, label='Sample')\n",
    "# plt.title(\"IP Counts in Sample\", fontsize=20)\n",
    "# plt.xlabel(\"Unique IP Address Bins\")\n",
    "# plt.ylabel(\"Count of Unique IP Addresses\")\n",
    "# plt.show()\n",
    "\n",
    "# plt.hist(df_original.doc_total_count, alpha=0.5)\n",
    "# plt.title(\"Document Counts in Original\", fontsize=20)\n",
    "# plt.xlabel(\"Unique Documents Address Bins\")\n",
    "# plt.ylabel(\"Count of Unique Documents Addresses\")\n",
    "# plt.show()\n",
    "\n",
    "# plt.hist(df_filtered.doc_total_count, alpha=0.5, label='Sample')\n",
    "# plt.title(\"Document Counts in Sample\", fontsize=20)\n",
    "# plt.xlabel(\"Unique Documents Address Bins\")\n",
    "# plt.ylabel(\"Count of Unique Documents Addresses\")\n",
    "# plt.show()\n",
    "\n",
    "# def savetocsv(df, title):\n",
    "#     df = df.drop(['doc_total_count','ip_total_count'],axis=1)\n",
    "#     df.to_csv(title)\n",
    "\n",
    "# savetocsv(df_filtered, 'df_filtered.csv')\n"
   ]
  },
  {
   "cell_type": "code",
   "execution_count": 11,
   "metadata": {},
   "outputs": [],
   "source": [
    "df_filtered = df_original.drop(['date', 'time', 'datetime'],axis=1)"
   ]
  },
  {
   "cell_type": "code",
   "execution_count": 30,
   "metadata": {},
   "outputs": [],
   "source": [
    "unique_ips = df_filtered.ip.unique()\n",
    "num_ips = len(unique_ips)"
   ]
  },
  {
   "cell_type": "code",
   "execution_count": 31,
   "metadata": {},
   "outputs": [],
   "source": [
    "unique_docs = df_filtered.ip.unique()\n",
    "num_docs = len(unique_docs)"
   ]
  },
  {
   "cell_type": "code",
   "execution_count": 15,
   "metadata": {},
   "outputs": [],
   "source": [
    "df_grouped = df_filtered.groupby('ip')"
   ]
  },
  {
   "cell_type": "code",
   "execution_count": 19,
   "metadata": {},
   "outputs": [],
   "source": [
    "dic_ips = {k:g['accession'].tolist() for k,g in df_filtered.groupby('ip')}"
   ]
  },
  {
   "cell_type": "code",
   "execution_count": 32,
   "metadata": {},
   "outputs": [
    {
     "ename": "TypeError",
     "evalue": "data type not understood",
     "output_type": "error",
     "traceback": [
      "\u001b[0;31m---------------------------------------------------------------------------\u001b[0m",
      "\u001b[0;31mTypeError\u001b[0m                                 Traceback (most recent call last)",
      "\u001b[0;32m<ipython-input-32-9c69efb35216>\u001b[0m in \u001b[0;36m<module>\u001b[0;34m()\u001b[0m\n\u001b[1;32m      1\u001b[0m df1 = pd.DataFrame(index=unique_ips, columns=unique_docs, \n\u001b[0;32m----> 2\u001b[0;31m                    values=(np.zeros(num_ips, num_docs)))\n\u001b[0m",
      "\u001b[0;31mTypeError\u001b[0m: data type not understood"
     ]
    }
   ],
   "source": [
    "df1 = pd.DataFrame(index=unique_ips, columns=unique_docs, \n",
    "                   values=(np.zeros(num_ips, num_docs)))"
   ]
  },
  {
   "cell_type": "code",
   "execution_count": null,
   "metadata": {},
   "outputs": [],
   "source": []
  }
 ],
 "metadata": {
  "kernelspec": {
   "display_name": "conda_python3",
   "language": "python",
   "name": "conda_python3"
  },
  "language_info": {
   "codemirror_mode": {
    "name": "ipython",
    "version": 3
   },
   "file_extension": ".py",
   "mimetype": "text/x-python",
   "name": "python",
   "nbconvert_exporter": "python",
   "pygments_lexer": "ipython3",
   "version": "3.6.5"
  }
 },
 "nbformat": 4,
 "nbformat_minor": 4
}
